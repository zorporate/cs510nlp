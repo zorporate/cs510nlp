{
  "nbformat": 4,
  "nbformat_minor": 0,
  "metadata": {
    "colab": {
      "name": "load_imdb.ipynb",
      "provenance": [],
      "collapsed_sections": [],
      "toc_visible": true,
      "machine_shape": "hm",
      "include_colab_link": true
    },
    "kernelspec": {
      "name": "python3",
      "display_name": "Python 3"
    },
    "accelerator": "GPU",
    "widgets": {
      "application/vnd.jupyter.widget-state+json": {
        "81b71b9b1c5944978c426c2e28ecc5fc": {
          "model_module": "@jupyter-widgets/controls",
          "model_name": "HBoxModel",
          "state": {
            "_view_name": "HBoxView",
            "_dom_classes": [],
            "_model_name": "HBoxModel",
            "_view_module": "@jupyter-widgets/controls",
            "_model_module_version": "1.5.0",
            "_view_count": null,
            "_view_module_version": "1.5.0",
            "box_style": "",
            "layout": "IPY_MODEL_3721866ab8c849f688251cf0f74ba4ca",
            "_model_module": "@jupyter-widgets/controls",
            "children": [
              "IPY_MODEL_cbdc767d647b47f197a173cfe803eb16",
              "IPY_MODEL_cf067287bdad4f8dbf7446f4bf7e4e43"
            ]
          }
        },
        "3721866ab8c849f688251cf0f74ba4ca": {
          "model_module": "@jupyter-widgets/base",
          "model_name": "LayoutModel",
          "state": {
            "_view_name": "LayoutView",
            "grid_template_rows": null,
            "right": null,
            "justify_content": null,
            "_view_module": "@jupyter-widgets/base",
            "overflow": null,
            "_model_module_version": "1.2.0",
            "_view_count": null,
            "flex_flow": null,
            "width": null,
            "min_width": null,
            "border": null,
            "align_items": null,
            "bottom": null,
            "_model_module": "@jupyter-widgets/base",
            "top": null,
            "grid_column": null,
            "overflow_y": null,
            "overflow_x": null,
            "grid_auto_flow": null,
            "grid_area": null,
            "grid_template_columns": null,
            "flex": null,
            "_model_name": "LayoutModel",
            "justify_items": null,
            "grid_row": null,
            "max_height": null,
            "align_content": null,
            "visibility": null,
            "align_self": null,
            "height": null,
            "min_height": null,
            "padding": null,
            "grid_auto_rows": null,
            "grid_gap": null,
            "max_width": null,
            "order": null,
            "_view_module_version": "1.2.0",
            "grid_template_areas": null,
            "object_position": null,
            "object_fit": null,
            "grid_auto_columns": null,
            "margin": null,
            "display": null,
            "left": null
          }
        },
        "cbdc767d647b47f197a173cfe803eb16": {
          "model_module": "@jupyter-widgets/controls",
          "model_name": "FloatProgressModel",
          "state": {
            "_view_name": "ProgressView",
            "style": "IPY_MODEL_f6fce015e0934382b2e0a6fe16e5c9bf",
            "_dom_classes": [],
            "description": "Downloading: 100%",
            "_model_name": "FloatProgressModel",
            "bar_style": "success",
            "max": 629,
            "_view_module": "@jupyter-widgets/controls",
            "_model_module_version": "1.5.0",
            "value": 629,
            "_view_count": null,
            "_view_module_version": "1.5.0",
            "orientation": "horizontal",
            "min": 0,
            "description_tooltip": null,
            "_model_module": "@jupyter-widgets/controls",
            "layout": "IPY_MODEL_6143257764974165a0e06c529ace15ad"
          }
        },
        "cf067287bdad4f8dbf7446f4bf7e4e43": {
          "model_module": "@jupyter-widgets/controls",
          "model_name": "HTMLModel",
          "state": {
            "_view_name": "HTMLView",
            "style": "IPY_MODEL_4379aaff93634287851159b440b39a02",
            "_dom_classes": [],
            "description": "",
            "_model_name": "HTMLModel",
            "placeholder": "​",
            "_view_module": "@jupyter-widgets/controls",
            "_model_module_version": "1.5.0",
            "value": " 629/629 [00:00&lt;00:00, 14.8kB/s]",
            "_view_count": null,
            "_view_module_version": "1.5.0",
            "description_tooltip": null,
            "_model_module": "@jupyter-widgets/controls",
            "layout": "IPY_MODEL_28af9d0e52f943328494eb94ef101dd3"
          }
        },
        "f6fce015e0934382b2e0a6fe16e5c9bf": {
          "model_module": "@jupyter-widgets/controls",
          "model_name": "ProgressStyleModel",
          "state": {
            "_view_name": "StyleView",
            "_model_name": "ProgressStyleModel",
            "description_width": "initial",
            "_view_module": "@jupyter-widgets/base",
            "_model_module_version": "1.5.0",
            "_view_count": null,
            "_view_module_version": "1.2.0",
            "bar_color": null,
            "_model_module": "@jupyter-widgets/controls"
          }
        },
        "6143257764974165a0e06c529ace15ad": {
          "model_module": "@jupyter-widgets/base",
          "model_name": "LayoutModel",
          "state": {
            "_view_name": "LayoutView",
            "grid_template_rows": null,
            "right": null,
            "justify_content": null,
            "_view_module": "@jupyter-widgets/base",
            "overflow": null,
            "_model_module_version": "1.2.0",
            "_view_count": null,
            "flex_flow": null,
            "width": null,
            "min_width": null,
            "border": null,
            "align_items": null,
            "bottom": null,
            "_model_module": "@jupyter-widgets/base",
            "top": null,
            "grid_column": null,
            "overflow_y": null,
            "overflow_x": null,
            "grid_auto_flow": null,
            "grid_area": null,
            "grid_template_columns": null,
            "flex": null,
            "_model_name": "LayoutModel",
            "justify_items": null,
            "grid_row": null,
            "max_height": null,
            "align_content": null,
            "visibility": null,
            "align_self": null,
            "height": null,
            "min_height": null,
            "padding": null,
            "grid_auto_rows": null,
            "grid_gap": null,
            "max_width": null,
            "order": null,
            "_view_module_version": "1.2.0",
            "grid_template_areas": null,
            "object_position": null,
            "object_fit": null,
            "grid_auto_columns": null,
            "margin": null,
            "display": null,
            "left": null
          }
        },
        "4379aaff93634287851159b440b39a02": {
          "model_module": "@jupyter-widgets/controls",
          "model_name": "DescriptionStyleModel",
          "state": {
            "_view_name": "StyleView",
            "_model_name": "DescriptionStyleModel",
            "description_width": "",
            "_view_module": "@jupyter-widgets/base",
            "_model_module_version": "1.5.0",
            "_view_count": null,
            "_view_module_version": "1.2.0",
            "_model_module": "@jupyter-widgets/controls"
          }
        },
        "28af9d0e52f943328494eb94ef101dd3": {
          "model_module": "@jupyter-widgets/base",
          "model_name": "LayoutModel",
          "state": {
            "_view_name": "LayoutView",
            "grid_template_rows": null,
            "right": null,
            "justify_content": null,
            "_view_module": "@jupyter-widgets/base",
            "overflow": null,
            "_model_module_version": "1.2.0",
            "_view_count": null,
            "flex_flow": null,
            "width": null,
            "min_width": null,
            "border": null,
            "align_items": null,
            "bottom": null,
            "_model_module": "@jupyter-widgets/base",
            "top": null,
            "grid_column": null,
            "overflow_y": null,
            "overflow_x": null,
            "grid_auto_flow": null,
            "grid_area": null,
            "grid_template_columns": null,
            "flex": null,
            "_model_name": "LayoutModel",
            "justify_items": null,
            "grid_row": null,
            "max_height": null,
            "align_content": null,
            "visibility": null,
            "align_self": null,
            "height": null,
            "min_height": null,
            "padding": null,
            "grid_auto_rows": null,
            "grid_gap": null,
            "max_width": null,
            "order": null,
            "_view_module_version": "1.2.0",
            "grid_template_areas": null,
            "object_position": null,
            "object_fit": null,
            "grid_auto_columns": null,
            "margin": null,
            "display": null,
            "left": null
          }
        },
        "d4b845f17a5c4946b34033f1b114c151": {
          "model_module": "@jupyter-widgets/controls",
          "model_name": "HBoxModel",
          "state": {
            "_view_name": "HBoxView",
            "_dom_classes": [],
            "_model_name": "HBoxModel",
            "_view_module": "@jupyter-widgets/controls",
            "_model_module_version": "1.5.0",
            "_view_count": null,
            "_view_module_version": "1.5.0",
            "box_style": "",
            "layout": "IPY_MODEL_538933687bc84613b5f2924c6bceb2fd",
            "_model_module": "@jupyter-widgets/controls",
            "children": [
              "IPY_MODEL_6acb7ac0cd454b729e003ac4f4a3de29",
              "IPY_MODEL_403f3319aab543faa797c817a2a6e077"
            ]
          }
        },
        "538933687bc84613b5f2924c6bceb2fd": {
          "model_module": "@jupyter-widgets/base",
          "model_name": "LayoutModel",
          "state": {
            "_view_name": "LayoutView",
            "grid_template_rows": null,
            "right": null,
            "justify_content": null,
            "_view_module": "@jupyter-widgets/base",
            "overflow": null,
            "_model_module_version": "1.2.0",
            "_view_count": null,
            "flex_flow": null,
            "width": null,
            "min_width": null,
            "border": null,
            "align_items": null,
            "bottom": null,
            "_model_module": "@jupyter-widgets/base",
            "top": null,
            "grid_column": null,
            "overflow_y": null,
            "overflow_x": null,
            "grid_auto_flow": null,
            "grid_area": null,
            "grid_template_columns": null,
            "flex": null,
            "_model_name": "LayoutModel",
            "justify_items": null,
            "grid_row": null,
            "max_height": null,
            "align_content": null,
            "visibility": null,
            "align_self": null,
            "height": null,
            "min_height": null,
            "padding": null,
            "grid_auto_rows": null,
            "grid_gap": null,
            "max_width": null,
            "order": null,
            "_view_module_version": "1.2.0",
            "grid_template_areas": null,
            "object_position": null,
            "object_fit": null,
            "grid_auto_columns": null,
            "margin": null,
            "display": null,
            "left": null
          }
        },
        "6acb7ac0cd454b729e003ac4f4a3de29": {
          "model_module": "@jupyter-widgets/controls",
          "model_name": "FloatProgressModel",
          "state": {
            "_view_name": "ProgressView",
            "style": "IPY_MODEL_b804327874fd46a494de30e08393d474",
            "_dom_classes": [],
            "description": "Downloading: 100%",
            "_model_name": "FloatProgressModel",
            "bar_style": "success",
            "max": 267844284,
            "_view_module": "@jupyter-widgets/controls",
            "_model_module_version": "1.5.0",
            "value": 267844284,
            "_view_count": null,
            "_view_module_version": "1.5.0",
            "orientation": "horizontal",
            "min": 0,
            "description_tooltip": null,
            "_model_module": "@jupyter-widgets/controls",
            "layout": "IPY_MODEL_9483e92979154ea298338ebd8a1ec4f8"
          }
        },
        "403f3319aab543faa797c817a2a6e077": {
          "model_module": "@jupyter-widgets/controls",
          "model_name": "HTMLModel",
          "state": {
            "_view_name": "HTMLView",
            "style": "IPY_MODEL_e00c41a2cc6748ecb53f5a850dab31c5",
            "_dom_classes": [],
            "description": "",
            "_model_name": "HTMLModel",
            "placeholder": "​",
            "_view_module": "@jupyter-widgets/controls",
            "_model_module_version": "1.5.0",
            "value": " 268M/268M [00:07&lt;00:00, 36.3MB/s]",
            "_view_count": null,
            "_view_module_version": "1.5.0",
            "description_tooltip": null,
            "_model_module": "@jupyter-widgets/controls",
            "layout": "IPY_MODEL_745ef268a72549edb2d6aee2cf15ad7a"
          }
        },
        "b804327874fd46a494de30e08393d474": {
          "model_module": "@jupyter-widgets/controls",
          "model_name": "ProgressStyleModel",
          "state": {
            "_view_name": "StyleView",
            "_model_name": "ProgressStyleModel",
            "description_width": "initial",
            "_view_module": "@jupyter-widgets/base",
            "_model_module_version": "1.5.0",
            "_view_count": null,
            "_view_module_version": "1.2.0",
            "bar_color": null,
            "_model_module": "@jupyter-widgets/controls"
          }
        },
        "9483e92979154ea298338ebd8a1ec4f8": {
          "model_module": "@jupyter-widgets/base",
          "model_name": "LayoutModel",
          "state": {
            "_view_name": "LayoutView",
            "grid_template_rows": null,
            "right": null,
            "justify_content": null,
            "_view_module": "@jupyter-widgets/base",
            "overflow": null,
            "_model_module_version": "1.2.0",
            "_view_count": null,
            "flex_flow": null,
            "width": null,
            "min_width": null,
            "border": null,
            "align_items": null,
            "bottom": null,
            "_model_module": "@jupyter-widgets/base",
            "top": null,
            "grid_column": null,
            "overflow_y": null,
            "overflow_x": null,
            "grid_auto_flow": null,
            "grid_area": null,
            "grid_template_columns": null,
            "flex": null,
            "_model_name": "LayoutModel",
            "justify_items": null,
            "grid_row": null,
            "max_height": null,
            "align_content": null,
            "visibility": null,
            "align_self": null,
            "height": null,
            "min_height": null,
            "padding": null,
            "grid_auto_rows": null,
            "grid_gap": null,
            "max_width": null,
            "order": null,
            "_view_module_version": "1.2.0",
            "grid_template_areas": null,
            "object_position": null,
            "object_fit": null,
            "grid_auto_columns": null,
            "margin": null,
            "display": null,
            "left": null
          }
        },
        "e00c41a2cc6748ecb53f5a850dab31c5": {
          "model_module": "@jupyter-widgets/controls",
          "model_name": "DescriptionStyleModel",
          "state": {
            "_view_name": "StyleView",
            "_model_name": "DescriptionStyleModel",
            "description_width": "",
            "_view_module": "@jupyter-widgets/base",
            "_model_module_version": "1.5.0",
            "_view_count": null,
            "_view_module_version": "1.2.0",
            "_model_module": "@jupyter-widgets/controls"
          }
        },
        "745ef268a72549edb2d6aee2cf15ad7a": {
          "model_module": "@jupyter-widgets/base",
          "model_name": "LayoutModel",
          "state": {
            "_view_name": "LayoutView",
            "grid_template_rows": null,
            "right": null,
            "justify_content": null,
            "_view_module": "@jupyter-widgets/base",
            "overflow": null,
            "_model_module_version": "1.2.0",
            "_view_count": null,
            "flex_flow": null,
            "width": null,
            "min_width": null,
            "border": null,
            "align_items": null,
            "bottom": null,
            "_model_module": "@jupyter-widgets/base",
            "top": null,
            "grid_column": null,
            "overflow_y": null,
            "overflow_x": null,
            "grid_auto_flow": null,
            "grid_area": null,
            "grid_template_columns": null,
            "flex": null,
            "_model_name": "LayoutModel",
            "justify_items": null,
            "grid_row": null,
            "max_height": null,
            "align_content": null,
            "visibility": null,
            "align_self": null,
            "height": null,
            "min_height": null,
            "padding": null,
            "grid_auto_rows": null,
            "grid_gap": null,
            "max_width": null,
            "order": null,
            "_view_module_version": "1.2.0",
            "grid_template_areas": null,
            "object_position": null,
            "object_fit": null,
            "grid_auto_columns": null,
            "margin": null,
            "display": null,
            "left": null
          }
        },
        "a4f8aea71c774aa58d3128b9b928d7d5": {
          "model_module": "@jupyter-widgets/controls",
          "model_name": "HBoxModel",
          "state": {
            "_view_name": "HBoxView",
            "_dom_classes": [],
            "_model_name": "HBoxModel",
            "_view_module": "@jupyter-widgets/controls",
            "_model_module_version": "1.5.0",
            "_view_count": null,
            "_view_module_version": "1.5.0",
            "box_style": "",
            "layout": "IPY_MODEL_f87a62c3f30c4439a786b742eddee28f",
            "_model_module": "@jupyter-widgets/controls",
            "children": [
              "IPY_MODEL_1ca25bb2b7d44348abf791d25407308b",
              "IPY_MODEL_5b4bb73b1aac4edc8cb22f7c7777713c"
            ]
          }
        },
        "f87a62c3f30c4439a786b742eddee28f": {
          "model_module": "@jupyter-widgets/base",
          "model_name": "LayoutModel",
          "state": {
            "_view_name": "LayoutView",
            "grid_template_rows": null,
            "right": null,
            "justify_content": null,
            "_view_module": "@jupyter-widgets/base",
            "overflow": null,
            "_model_module_version": "1.2.0",
            "_view_count": null,
            "flex_flow": null,
            "width": null,
            "min_width": null,
            "border": null,
            "align_items": null,
            "bottom": null,
            "_model_module": "@jupyter-widgets/base",
            "top": null,
            "grid_column": null,
            "overflow_y": null,
            "overflow_x": null,
            "grid_auto_flow": null,
            "grid_area": null,
            "grid_template_columns": null,
            "flex": null,
            "_model_name": "LayoutModel",
            "justify_items": null,
            "grid_row": null,
            "max_height": null,
            "align_content": null,
            "visibility": null,
            "align_self": null,
            "height": null,
            "min_height": null,
            "padding": null,
            "grid_auto_rows": null,
            "grid_gap": null,
            "max_width": null,
            "order": null,
            "_view_module_version": "1.2.0",
            "grid_template_areas": null,
            "object_position": null,
            "object_fit": null,
            "grid_auto_columns": null,
            "margin": null,
            "display": null,
            "left": null
          }
        },
        "1ca25bb2b7d44348abf791d25407308b": {
          "model_module": "@jupyter-widgets/controls",
          "model_name": "FloatProgressModel",
          "state": {
            "_view_name": "ProgressView",
            "style": "IPY_MODEL_2ec500d822564fd5ab499a964ea922a0",
            "_dom_classes": [],
            "description": "Downloading: 100%",
            "_model_name": "FloatProgressModel",
            "bar_style": "success",
            "max": 231508,
            "_view_module": "@jupyter-widgets/controls",
            "_model_module_version": "1.5.0",
            "value": 231508,
            "_view_count": null,
            "_view_module_version": "1.5.0",
            "orientation": "horizontal",
            "min": 0,
            "description_tooltip": null,
            "_model_module": "@jupyter-widgets/controls",
            "layout": "IPY_MODEL_41ff6812eb9e4bcca7a2ca0a3bb4d337"
          }
        },
        "5b4bb73b1aac4edc8cb22f7c7777713c": {
          "model_module": "@jupyter-widgets/controls",
          "model_name": "HTMLModel",
          "state": {
            "_view_name": "HTMLView",
            "style": "IPY_MODEL_5a9258a7343c4ec0bf9cc8377e11e1dd",
            "_dom_classes": [],
            "description": "",
            "_model_name": "HTMLModel",
            "placeholder": "​",
            "_view_module": "@jupyter-widgets/controls",
            "_model_module_version": "1.5.0",
            "value": " 232k/232k [00:00&lt;00:00, 489kB/s]",
            "_view_count": null,
            "_view_module_version": "1.5.0",
            "description_tooltip": null,
            "_model_module": "@jupyter-widgets/controls",
            "layout": "IPY_MODEL_ad68e6f416e3467fac1b800059c958be"
          }
        },
        "2ec500d822564fd5ab499a964ea922a0": {
          "model_module": "@jupyter-widgets/controls",
          "model_name": "ProgressStyleModel",
          "state": {
            "_view_name": "StyleView",
            "_model_name": "ProgressStyleModel",
            "description_width": "initial",
            "_view_module": "@jupyter-widgets/base",
            "_model_module_version": "1.5.0",
            "_view_count": null,
            "_view_module_version": "1.2.0",
            "bar_color": null,
            "_model_module": "@jupyter-widgets/controls"
          }
        },
        "41ff6812eb9e4bcca7a2ca0a3bb4d337": {
          "model_module": "@jupyter-widgets/base",
          "model_name": "LayoutModel",
          "state": {
            "_view_name": "LayoutView",
            "grid_template_rows": null,
            "right": null,
            "justify_content": null,
            "_view_module": "@jupyter-widgets/base",
            "overflow": null,
            "_model_module_version": "1.2.0",
            "_view_count": null,
            "flex_flow": null,
            "width": null,
            "min_width": null,
            "border": null,
            "align_items": null,
            "bottom": null,
            "_model_module": "@jupyter-widgets/base",
            "top": null,
            "grid_column": null,
            "overflow_y": null,
            "overflow_x": null,
            "grid_auto_flow": null,
            "grid_area": null,
            "grid_template_columns": null,
            "flex": null,
            "_model_name": "LayoutModel",
            "justify_items": null,
            "grid_row": null,
            "max_height": null,
            "align_content": null,
            "visibility": null,
            "align_self": null,
            "height": null,
            "min_height": null,
            "padding": null,
            "grid_auto_rows": null,
            "grid_gap": null,
            "max_width": null,
            "order": null,
            "_view_module_version": "1.2.0",
            "grid_template_areas": null,
            "object_position": null,
            "object_fit": null,
            "grid_auto_columns": null,
            "margin": null,
            "display": null,
            "left": null
          }
        },
        "5a9258a7343c4ec0bf9cc8377e11e1dd": {
          "model_module": "@jupyter-widgets/controls",
          "model_name": "DescriptionStyleModel",
          "state": {
            "_view_name": "StyleView",
            "_model_name": "DescriptionStyleModel",
            "description_width": "",
            "_view_module": "@jupyter-widgets/base",
            "_model_module_version": "1.5.0",
            "_view_count": null,
            "_view_module_version": "1.2.0",
            "_model_module": "@jupyter-widgets/controls"
          }
        },
        "ad68e6f416e3467fac1b800059c958be": {
          "model_module": "@jupyter-widgets/base",
          "model_name": "LayoutModel",
          "state": {
            "_view_name": "LayoutView",
            "grid_template_rows": null,
            "right": null,
            "justify_content": null,
            "_view_module": "@jupyter-widgets/base",
            "overflow": null,
            "_model_module_version": "1.2.0",
            "_view_count": null,
            "flex_flow": null,
            "width": null,
            "min_width": null,
            "border": null,
            "align_items": null,
            "bottom": null,
            "_model_module": "@jupyter-widgets/base",
            "top": null,
            "grid_column": null,
            "overflow_y": null,
            "overflow_x": null,
            "grid_auto_flow": null,
            "grid_area": null,
            "grid_template_columns": null,
            "flex": null,
            "_model_name": "LayoutModel",
            "justify_items": null,
            "grid_row": null,
            "max_height": null,
            "align_content": null,
            "visibility": null,
            "align_self": null,
            "height": null,
            "min_height": null,
            "padding": null,
            "grid_auto_rows": null,
            "grid_gap": null,
            "max_width": null,
            "order": null,
            "_view_module_version": "1.2.0",
            "grid_template_areas": null,
            "object_position": null,
            "object_fit": null,
            "grid_auto_columns": null,
            "margin": null,
            "display": null,
            "left": null
          }
        },
        "ebcf32ddcd3e457eaa1987785d0e4987": {
          "model_module": "@jupyter-widgets/controls",
          "model_name": "HBoxModel",
          "state": {
            "_view_name": "HBoxView",
            "_dom_classes": [],
            "_model_name": "HBoxModel",
            "_view_module": "@jupyter-widgets/controls",
            "_model_module_version": "1.5.0",
            "_view_count": null,
            "_view_module_version": "1.5.0",
            "box_style": "",
            "layout": "IPY_MODEL_4ad77672d5e744d68f1339774cf1cde8",
            "_model_module": "@jupyter-widgets/controls",
            "children": [
              "IPY_MODEL_972d2f16e41a4ae08827a2a540143890",
              "IPY_MODEL_b1b85a36f1634ddeb3fec5553c04e32a"
            ]
          }
        },
        "4ad77672d5e744d68f1339774cf1cde8": {
          "model_module": "@jupyter-widgets/base",
          "model_name": "LayoutModel",
          "state": {
            "_view_name": "LayoutView",
            "grid_template_rows": null,
            "right": null,
            "justify_content": null,
            "_view_module": "@jupyter-widgets/base",
            "overflow": null,
            "_model_module_version": "1.2.0",
            "_view_count": null,
            "flex_flow": null,
            "width": null,
            "min_width": null,
            "border": null,
            "align_items": null,
            "bottom": null,
            "_model_module": "@jupyter-widgets/base",
            "top": null,
            "grid_column": null,
            "overflow_y": null,
            "overflow_x": null,
            "grid_auto_flow": null,
            "grid_area": null,
            "grid_template_columns": null,
            "flex": null,
            "_model_name": "LayoutModel",
            "justify_items": null,
            "grid_row": null,
            "max_height": null,
            "align_content": null,
            "visibility": null,
            "align_self": null,
            "height": null,
            "min_height": null,
            "padding": null,
            "grid_auto_rows": null,
            "grid_gap": null,
            "max_width": null,
            "order": null,
            "_view_module_version": "1.2.0",
            "grid_template_areas": null,
            "object_position": null,
            "object_fit": null,
            "grid_auto_columns": null,
            "margin": null,
            "display": null,
            "left": null
          }
        },
        "972d2f16e41a4ae08827a2a540143890": {
          "model_module": "@jupyter-widgets/controls",
          "model_name": "FloatProgressModel",
          "state": {
            "_view_name": "ProgressView",
            "style": "IPY_MODEL_627a8e36e0794018ba9b13aebb499a24",
            "_dom_classes": [],
            "description": "Downloading: 100%",
            "_model_name": "FloatProgressModel",
            "bar_style": "success",
            "max": 48,
            "_view_module": "@jupyter-widgets/controls",
            "_model_module_version": "1.5.0",
            "value": 48,
            "_view_count": null,
            "_view_module_version": "1.5.0",
            "orientation": "horizontal",
            "min": 0,
            "description_tooltip": null,
            "_model_module": "@jupyter-widgets/controls",
            "layout": "IPY_MODEL_72d7d89e6eaa41749414b51cbf384254"
          }
        },
        "b1b85a36f1634ddeb3fec5553c04e32a": {
          "model_module": "@jupyter-widgets/controls",
          "model_name": "HTMLModel",
          "state": {
            "_view_name": "HTMLView",
            "style": "IPY_MODEL_b65cf51714344b2c8855242931fb835f",
            "_dom_classes": [],
            "description": "",
            "_model_name": "HTMLModel",
            "placeholder": "​",
            "_view_module": "@jupyter-widgets/controls",
            "_model_module_version": "1.5.0",
            "value": " 48.0/48.0 [00:00&lt;00:00, 672B/s]",
            "_view_count": null,
            "_view_module_version": "1.5.0",
            "description_tooltip": null,
            "_model_module": "@jupyter-widgets/controls",
            "layout": "IPY_MODEL_1ab87c502a674b8e9936fb00173d42c8"
          }
        },
        "627a8e36e0794018ba9b13aebb499a24": {
          "model_module": "@jupyter-widgets/controls",
          "model_name": "ProgressStyleModel",
          "state": {
            "_view_name": "StyleView",
            "_model_name": "ProgressStyleModel",
            "description_width": "initial",
            "_view_module": "@jupyter-widgets/base",
            "_model_module_version": "1.5.0",
            "_view_count": null,
            "_view_module_version": "1.2.0",
            "bar_color": null,
            "_model_module": "@jupyter-widgets/controls"
          }
        },
        "72d7d89e6eaa41749414b51cbf384254": {
          "model_module": "@jupyter-widgets/base",
          "model_name": "LayoutModel",
          "state": {
            "_view_name": "LayoutView",
            "grid_template_rows": null,
            "right": null,
            "justify_content": null,
            "_view_module": "@jupyter-widgets/base",
            "overflow": null,
            "_model_module_version": "1.2.0",
            "_view_count": null,
            "flex_flow": null,
            "width": null,
            "min_width": null,
            "border": null,
            "align_items": null,
            "bottom": null,
            "_model_module": "@jupyter-widgets/base",
            "top": null,
            "grid_column": null,
            "overflow_y": null,
            "overflow_x": null,
            "grid_auto_flow": null,
            "grid_area": null,
            "grid_template_columns": null,
            "flex": null,
            "_model_name": "LayoutModel",
            "justify_items": null,
            "grid_row": null,
            "max_height": null,
            "align_content": null,
            "visibility": null,
            "align_self": null,
            "height": null,
            "min_height": null,
            "padding": null,
            "grid_auto_rows": null,
            "grid_gap": null,
            "max_width": null,
            "order": null,
            "_view_module_version": "1.2.0",
            "grid_template_areas": null,
            "object_position": null,
            "object_fit": null,
            "grid_auto_columns": null,
            "margin": null,
            "display": null,
            "left": null
          }
        },
        "b65cf51714344b2c8855242931fb835f": {
          "model_module": "@jupyter-widgets/controls",
          "model_name": "DescriptionStyleModel",
          "state": {
            "_view_name": "StyleView",
            "_model_name": "DescriptionStyleModel",
            "description_width": "",
            "_view_module": "@jupyter-widgets/base",
            "_model_module_version": "1.5.0",
            "_view_count": null,
            "_view_module_version": "1.2.0",
            "_model_module": "@jupyter-widgets/controls"
          }
        },
        "1ab87c502a674b8e9936fb00173d42c8": {
          "model_module": "@jupyter-widgets/base",
          "model_name": "LayoutModel",
          "state": {
            "_view_name": "LayoutView",
            "grid_template_rows": null,
            "right": null,
            "justify_content": null,
            "_view_module": "@jupyter-widgets/base",
            "overflow": null,
            "_model_module_version": "1.2.0",
            "_view_count": null,
            "flex_flow": null,
            "width": null,
            "min_width": null,
            "border": null,
            "align_items": null,
            "bottom": null,
            "_model_module": "@jupyter-widgets/base",
            "top": null,
            "grid_column": null,
            "overflow_y": null,
            "overflow_x": null,
            "grid_auto_flow": null,
            "grid_area": null,
            "grid_template_columns": null,
            "flex": null,
            "_model_name": "LayoutModel",
            "justify_items": null,
            "grid_row": null,
            "max_height": null,
            "align_content": null,
            "visibility": null,
            "align_self": null,
            "height": null,
            "min_height": null,
            "padding": null,
            "grid_auto_rows": null,
            "grid_gap": null,
            "max_width": null,
            "order": null,
            "_view_module_version": "1.2.0",
            "grid_template_areas": null,
            "object_position": null,
            "object_fit": null,
            "grid_auto_columns": null,
            "margin": null,
            "display": null,
            "left": null
          }
        },
        "f6a54e5628974118964a379ee9f99a03": {
          "model_module": "@jupyter-widgets/controls",
          "model_name": "HBoxModel",
          "state": {
            "_view_name": "HBoxView",
            "_dom_classes": [],
            "_model_name": "HBoxModel",
            "_view_module": "@jupyter-widgets/controls",
            "_model_module_version": "1.5.0",
            "_view_count": null,
            "_view_module_version": "1.5.0",
            "box_style": "",
            "layout": "IPY_MODEL_462fcc4cfc33489db955228ab555e9b0",
            "_model_module": "@jupyter-widgets/controls",
            "children": [
              "IPY_MODEL_9bcbe4f8face48d08c828c6180a4e41a",
              "IPY_MODEL_d1a5bc3590e2461aa30f51bd1b057e4d"
            ]
          }
        },
        "462fcc4cfc33489db955228ab555e9b0": {
          "model_module": "@jupyter-widgets/base",
          "model_name": "LayoutModel",
          "state": {
            "_view_name": "LayoutView",
            "grid_template_rows": null,
            "right": null,
            "justify_content": null,
            "_view_module": "@jupyter-widgets/base",
            "overflow": null,
            "_model_module_version": "1.2.0",
            "_view_count": null,
            "flex_flow": null,
            "width": null,
            "min_width": null,
            "border": null,
            "align_items": null,
            "bottom": null,
            "_model_module": "@jupyter-widgets/base",
            "top": null,
            "grid_column": null,
            "overflow_y": null,
            "overflow_x": null,
            "grid_auto_flow": null,
            "grid_area": null,
            "grid_template_columns": null,
            "flex": null,
            "_model_name": "LayoutModel",
            "justify_items": null,
            "grid_row": null,
            "max_height": null,
            "align_content": null,
            "visibility": null,
            "align_self": null,
            "height": null,
            "min_height": null,
            "padding": null,
            "grid_auto_rows": null,
            "grid_gap": null,
            "max_width": null,
            "order": null,
            "_view_module_version": "1.2.0",
            "grid_template_areas": null,
            "object_position": null,
            "object_fit": null,
            "grid_auto_columns": null,
            "margin": null,
            "display": null,
            "left": null
          }
        },
        "9bcbe4f8face48d08c828c6180a4e41a": {
          "model_module": "@jupyter-widgets/controls",
          "model_name": "FloatProgressModel",
          "state": {
            "_view_name": "ProgressView",
            "style": "IPY_MODEL_1c03358afe3b48bd8432933a3752deb5",
            "_dom_classes": [],
            "description": "100%",
            "_model_name": "FloatProgressModel",
            "bar_style": "success",
            "max": 1000,
            "_view_module": "@jupyter-widgets/controls",
            "_model_module_version": "1.5.0",
            "value": 1000,
            "_view_count": null,
            "_view_module_version": "1.5.0",
            "orientation": "horizontal",
            "min": 0,
            "description_tooltip": null,
            "_model_module": "@jupyter-widgets/controls",
            "layout": "IPY_MODEL_a6fdd26c082342178dd26462ec4292fa"
          }
        },
        "d1a5bc3590e2461aa30f51bd1b057e4d": {
          "model_module": "@jupyter-widgets/controls",
          "model_name": "HTMLModel",
          "state": {
            "_view_name": "HTMLView",
            "style": "IPY_MODEL_d7b7eba969974737a55b3af5308ede05",
            "_dom_classes": [],
            "description": "",
            "_model_name": "HTMLModel",
            "placeholder": "​",
            "_view_module": "@jupyter-widgets/controls",
            "_model_module_version": "1.5.0",
            "value": " 1000/1000.0 [07:29&lt;00:00,  2.22it/s]",
            "_view_count": null,
            "_view_module_version": "1.5.0",
            "description_tooltip": null,
            "_model_module": "@jupyter-widgets/controls",
            "layout": "IPY_MODEL_76e901714bfc4c1abc9c390dbbe63e16"
          }
        },
        "1c03358afe3b48bd8432933a3752deb5": {
          "model_module": "@jupyter-widgets/controls",
          "model_name": "ProgressStyleModel",
          "state": {
            "_view_name": "StyleView",
            "_model_name": "ProgressStyleModel",
            "description_width": "initial",
            "_view_module": "@jupyter-widgets/base",
            "_model_module_version": "1.5.0",
            "_view_count": null,
            "_view_module_version": "1.2.0",
            "bar_color": null,
            "_model_module": "@jupyter-widgets/controls"
          }
        },
        "a6fdd26c082342178dd26462ec4292fa": {
          "model_module": "@jupyter-widgets/base",
          "model_name": "LayoutModel",
          "state": {
            "_view_name": "LayoutView",
            "grid_template_rows": null,
            "right": null,
            "justify_content": null,
            "_view_module": "@jupyter-widgets/base",
            "overflow": null,
            "_model_module_version": "1.2.0",
            "_view_count": null,
            "flex_flow": null,
            "width": null,
            "min_width": null,
            "border": null,
            "align_items": null,
            "bottom": null,
            "_model_module": "@jupyter-widgets/base",
            "top": null,
            "grid_column": null,
            "overflow_y": null,
            "overflow_x": null,
            "grid_auto_flow": null,
            "grid_area": null,
            "grid_template_columns": null,
            "flex": null,
            "_model_name": "LayoutModel",
            "justify_items": null,
            "grid_row": null,
            "max_height": null,
            "align_content": null,
            "visibility": null,
            "align_self": null,
            "height": null,
            "min_height": null,
            "padding": null,
            "grid_auto_rows": null,
            "grid_gap": null,
            "max_width": null,
            "order": null,
            "_view_module_version": "1.2.0",
            "grid_template_areas": null,
            "object_position": null,
            "object_fit": null,
            "grid_auto_columns": null,
            "margin": null,
            "display": null,
            "left": null
          }
        },
        "d7b7eba969974737a55b3af5308ede05": {
          "model_module": "@jupyter-widgets/controls",
          "model_name": "DescriptionStyleModel",
          "state": {
            "_view_name": "StyleView",
            "_model_name": "DescriptionStyleModel",
            "description_width": "",
            "_view_module": "@jupyter-widgets/base",
            "_model_module_version": "1.5.0",
            "_view_count": null,
            "_view_module_version": "1.2.0",
            "_model_module": "@jupyter-widgets/controls"
          }
        },
        "76e901714bfc4c1abc9c390dbbe63e16": {
          "model_module": "@jupyter-widgets/base",
          "model_name": "LayoutModel",
          "state": {
            "_view_name": "LayoutView",
            "grid_template_rows": null,
            "right": null,
            "justify_content": null,
            "_view_module": "@jupyter-widgets/base",
            "overflow": null,
            "_model_module_version": "1.2.0",
            "_view_count": null,
            "flex_flow": null,
            "width": null,
            "min_width": null,
            "border": null,
            "align_items": null,
            "bottom": null,
            "_model_module": "@jupyter-widgets/base",
            "top": null,
            "grid_column": null,
            "overflow_y": null,
            "overflow_x": null,
            "grid_auto_flow": null,
            "grid_area": null,
            "grid_template_columns": null,
            "flex": null,
            "_model_name": "LayoutModel",
            "justify_items": null,
            "grid_row": null,
            "max_height": null,
            "align_content": null,
            "visibility": null,
            "align_self": null,
            "height": null,
            "min_height": null,
            "padding": null,
            "grid_auto_rows": null,
            "grid_gap": null,
            "max_width": null,
            "order": null,
            "_view_module_version": "1.2.0",
            "grid_template_areas": null,
            "object_position": null,
            "object_fit": null,
            "grid_auto_columns": null,
            "margin": null,
            "display": null,
            "left": null
          }
        }
      }
    }
  },
  "cells": [
    {
      "cell_type": "markdown",
      "metadata": {
        "id": "view-in-github",
        "colab_type": "text"
      },
      "source": [
        "<a href=\"https://colab.research.google.com/github/zorporate/cs510nlp/blob/main/load_imdb.ipynb\" target=\"_parent\"><img src=\"https://colab.research.google.com/assets/colab-badge.svg\" alt=\"Open In Colab\"/></a>"
      ]
    },
    {
      "cell_type": "code",
      "metadata": {
        "colab": {
          "base_uri": "https://localhost:8080/"
        },
        "id": "J8Vd2_Zk3j_E",
        "outputId": "8fb81a7a-59a2-45a6-c75c-2437f0f7c9eb"
      },
      "source": [
        "!pip install transformers"
      ],
      "execution_count": null,
      "outputs": [
        {
          "output_type": "stream",
          "text": [
            "Collecting transformers\n",
            "\u001b[?25l  Downloading https://files.pythonhosted.org/packages/d8/b2/57495b5309f09fa501866e225c84532d1fd89536ea62406b2181933fb418/transformers-4.5.1-py3-none-any.whl (2.1MB)\n",
            "\u001b[K     |████████████████████████████████| 2.1MB 6.7MB/s \n",
            "\u001b[?25hRequirement already satisfied: importlib-metadata; python_version < \"3.8\" in /usr/local/lib/python3.7/dist-packages (from transformers) (3.10.1)\n",
            "Collecting tokenizers<0.11,>=0.10.1\n",
            "\u001b[?25l  Downloading https://files.pythonhosted.org/packages/ae/04/5b870f26a858552025a62f1649c20d29d2672c02ff3c3fb4c688ca46467a/tokenizers-0.10.2-cp37-cp37m-manylinux2010_x86_64.whl (3.3MB)\n",
            "\u001b[K     |████████████████████████████████| 3.3MB 38.1MB/s \n",
            "\u001b[?25hRequirement already satisfied: packaging in /usr/local/lib/python3.7/dist-packages (from transformers) (20.9)\n",
            "Requirement already satisfied: filelock in /usr/local/lib/python3.7/dist-packages (from transformers) (3.0.12)\n",
            "Collecting sacremoses\n",
            "\u001b[?25l  Downloading https://files.pythonhosted.org/packages/75/ee/67241dc87f266093c533a2d4d3d69438e57d7a90abb216fa076e7d475d4a/sacremoses-0.0.45-py3-none-any.whl (895kB)\n",
            "\u001b[K     |████████████████████████████████| 901kB 47.9MB/s \n",
            "\u001b[?25hRequirement already satisfied: regex!=2019.12.17 in /usr/local/lib/python3.7/dist-packages (from transformers) (2019.12.20)\n",
            "Requirement already satisfied: tqdm>=4.27 in /usr/local/lib/python3.7/dist-packages (from transformers) (4.41.1)\n",
            "Requirement already satisfied: numpy>=1.17 in /usr/local/lib/python3.7/dist-packages (from transformers) (1.19.5)\n",
            "Requirement already satisfied: requests in /usr/local/lib/python3.7/dist-packages (from transformers) (2.23.0)\n",
            "Requirement already satisfied: typing-extensions>=3.6.4; python_version < \"3.8\" in /usr/local/lib/python3.7/dist-packages (from importlib-metadata; python_version < \"3.8\"->transformers) (3.7.4.3)\n",
            "Requirement already satisfied: zipp>=0.5 in /usr/local/lib/python3.7/dist-packages (from importlib-metadata; python_version < \"3.8\"->transformers) (3.4.1)\n",
            "Requirement already satisfied: pyparsing>=2.0.2 in /usr/local/lib/python3.7/dist-packages (from packaging->transformers) (2.4.7)\n",
            "Requirement already satisfied: click in /usr/local/lib/python3.7/dist-packages (from sacremoses->transformers) (7.1.2)\n",
            "Requirement already satisfied: six in /usr/local/lib/python3.7/dist-packages (from sacremoses->transformers) (1.15.0)\n",
            "Requirement already satisfied: joblib in /usr/local/lib/python3.7/dist-packages (from sacremoses->transformers) (1.0.1)\n",
            "Requirement already satisfied: chardet<4,>=3.0.2 in /usr/local/lib/python3.7/dist-packages (from requests->transformers) (3.0.4)\n",
            "Requirement already satisfied: certifi>=2017.4.17 in /usr/local/lib/python3.7/dist-packages (from requests->transformers) (2020.12.5)\n",
            "Requirement already satisfied: urllib3!=1.25.0,!=1.25.1,<1.26,>=1.21.1 in /usr/local/lib/python3.7/dist-packages (from requests->transformers) (1.24.3)\n",
            "Requirement already satisfied: idna<3,>=2.5 in /usr/local/lib/python3.7/dist-packages (from requests->transformers) (2.10)\n",
            "Installing collected packages: tokenizers, sacremoses, transformers\n",
            "Successfully installed sacremoses-0.0.45 tokenizers-0.10.2 transformers-4.5.1\n"
          ],
          "name": "stdout"
        }
      ]
    },
    {
      "cell_type": "markdown",
      "metadata": {
        "id": "2AoLoKTmRMJt"
      },
      "source": [
        "# Get EWE vectors"
      ]
    },
    {
      "cell_type": "code",
      "metadata": {
        "colab": {
          "base_uri": "https://localhost:8080/"
        },
        "id": "tlimvRm3PuRR",
        "outputId": "7dc37331-978b-4656-b097-9c261ac10f30"
      },
      "source": [
        "%%bash\n",
        "\n",
        "wget -q https://www.dropbox.com/s/5egqnbktbfxp2im/ewe_uni.txt.zip?dl=0 -O ./ewe.zip\n",
        "unzip -qo ewe.zip\n",
        "rm -rf __MACOSX/ MACOSX/\n",
        "rm ewe.zip\n",
        "head ewe_uni.txt"
      ],
      "execution_count": null,
      "outputs": [
        {
          "output_type": "stream",
          "text": [
            "the -0.193682283163 -0.152885451913 0.00764408055693 -0.0254001040012 -0.0527419932187 -0.258357435465 -4.13782644272 0.640544116497 0.333551675081 -0.422751069069 0.39350092411 -0.184653550386 0.133011296391 -0.0202169623226 0.382724046707 -0.558341026306 -0.111894078553 -0.00917041953653 0.313256621361 0.0723667219281 0.102137431502 -0.0789565816522 -0.0567378103733 -0.280855000019 -0.458377659321 0.26387411356 0.0766083225608 -0.0393931828439 -0.204306602478 0.00857916567475 -0.297831892967 0.173263564706 0.0584956146777 -0.271546214819 0.0923996418715 0.354975402355 0.0457001142204 -0.160491466522 0.504980742931 -0.177410885692 0.307809114456 0.100258789957 0.0420325696468 0.0769292414188 0.278610706329 0.071012288332 0.0506280511618 -0.298026770353 -0.435857564211 0.319009244442 0.392242819071 0.364684045315 0.14129075408 -0.134040102363 0.121166676283 -0.157480448484 0.360082387924 0.311951518059 -0.118711099029 0.0139132644981 0.447214573622 0.368951529264 0.122153200209 -0.435039818287 -0.107227683067 0.514124214649 0.551258742809 0.445406228304 0.313464164734 0.0131609085947 -0.407987684011 -0.0159484669566 0.214684247971 -0.350512504578 0.21253977716 -0.551224768162 -0.0218636132777 -0.0427898541093 0.318204492331 -0.508719205856 -0.280023723841 -0.440080523491 -0.31621041894 -0.477082490921 0.524337053299 0.00475038029253 -0.176858156919 -0.195487007499 -0.246701821685 -0.063192397356 0.0622469112277 -0.221000358462 0.2710288167 0.419916421175 0.0152033502236 -0.318660259247 -3.27888941765 -0.405074119568 0.168165415525 -0.127459138632 0.031373064965 0.444580256939 0.160126537085 0.157139226794 -0.216564819217 -0.25147780776 0.295657277107 -0.569851338863 -0.61630231142 0.106851257384 0.28514200449 0.20551893115 -0.043227955699 0.404177963734 -0.202681660652 -0.0265515130013 0.268794417381 -0.149224564433 0.052556399256 -0.0478357225657 -0.42103806138 0.510999441147 0.149609610438 -0.0906406491995 -0.146037936211 -0.158526942134 0.0725942924619 -0.246630996466 0.154556155205 0.158413529396 -0.0541964657605 0.0406579263508 -0.160617530346 -0.181987315416 0.0647366642952 0.351434409618 -0.152662783861 0.17297655344 0.458690464497 0.152220711112 -0.0838197618723 0.272648334503 0.0788203328848 0.316390752792 -0.0668929293752 0.122002780437 -0.300816297531 -0.0313712060452 0.617991983891 0.708003222942 -0.295622617006 -0.0546066202223 0.0136237805709 -0.0782381817698 -0.271064162254 -0.105467617512 0.459609121084 0.0936019420624 -0.108385264874 -0.0348214171827 0.120512962341 0.230486392975 -0.0484595447779 0.305911242962 -0.105576813221 0.152837142348 0.150793373585 0.114580109715 0.260496288538 0.0189075078815 0.0787828415632 0.164683699608 -0.206193506718 0.332891076803 -0.0777115300298 0.662005901337 0.0547778233886 -0.326803445816 0.33222964406 0.17436940968 0.783684551716 -0.196286410093 -0.166734606028 -0.32109028101 0.078204639256 -0.372129440308 -0.253430128098 -0.224350333214 0.704043388367 -0.119956433773 0.152720123529 -0.423710167408 -0.0514787584543 0.0612175688148 -0.116285100579 -0.0415016487241 0.48206242919 0.0102556347847 0.202269926667 0.27146473527 -0.308356255293 0.0813756138086 -0.169819414616 -0.240369215608 0.243350952864 0.184013977647 0.0504636876285 0.146084696054 0.201717630029 0.333131402731 0.230417683721 0.152395501733 -0.287797033787 0.24101151526 0.0971969664097 0.399466961622 -0.300763964653 -0.208341345191 0.261060118675 0.11123714596 -0.210493564606 -0.0449993833899 0.022953255102 -0.215884327888 -3.38055801392 0.319041013718 -0.0907649025321 -0.0133128194138 -0.250578433275 -0.109719820321 0.0422120392323 -0.15925103426 0.0558927170932 -0.0638703480363 -0.134486451745 0.234453201294 0.0369669534266 0.301679074764 -0.615009307861 0.205727219582 -0.428990036249 0.377608448267 0.0353778637946 0.192467227578 0.125549048185 -0.227633446455 0.0168588254601 -0.20582665503 -0.270587325096 0.317410081625 -0.0432407557964 0.0405224151909 -0.124517336488 -0.101502321661 0.0137058496475 -0.0114740906283 -0.189610525966 0.0328757800162 -0.157510086894 -0.0589822567999 0.57985585928 0.037184804678 0.233124837279 0.0910436585546 0.27320125699 -0.388284027576 -0.0916806161404 -0.0644274353981 -0.0261105746031 -0.0155066438019 -0.0151012651622 -0.432628244162 -0.0922648087144 0.0578123405576 -0.0834179148078 0.244402348995 0.210188478231 0.341310560703 -0.210001632571 -0.312075346708 0.464765608311 0.248351380229 0.071626983583 0.200840041041 0.208886638284 0.151321992278 0.0671428069472 -0.33351662755 -0.161026611924 -0.0688782706857 -0.041492793709 -0.459033042192 0.0319565720856 0.557198941708 -0.263875216246 0.38958889246 0.258330434561 -0.539709806442 0.212540119886 0.00129219563678\n",
            "and -0.0804303959012 -0.260764837265 -0.330572098494 -0.324780493975 0.587497472763 -0.510148644447 -4.15256929398 -0.105487041175 -0.0983018875122 -0.473569869995 0.192772656679 -0.0840223878622 -0.443611472845 -0.340004056692 -0.446062743664 -0.354435414076 -0.462327599525 -0.817775309086 0.249321579933 0.201535925269 -0.117942012846 0.140744462609 -0.54647988081 0.324439167976 -0.0899700447917 -0.026351461187 -0.127333849669 -0.434938818216 -0.0122612025589 -0.434209823608 -0.034646473825 0.122656948864 0.516590058804 -0.52158665657 -0.248765349388 -0.505051851273 -0.0601599738002 -0.300749242306 0.265706390142 0.0481280572712 -0.231443971395 -0.0128566762432 0.0506121516228 -0.504613876343 -0.118407040834 -0.0932792052627 0.00427791988477 -0.33262309432 -0.207348838449 0.077901609242 0.114413514733 -0.492965072393 0.361830294132 -0.277046859264 0.154995396733 0.14143987 -0.096783824265 -0.0616234503686 -0.0365637205541 0.00485739856958 -0.129858449101 0.345996975899 0.0821410939097 -0.475228399038 0.0692685395479 -0.0445476919413 -0.00361976446584 0.173065304756 0.180483266711 -0.512172818184 -0.310976713896 -0.123377270997 0.0474993176758 -0.0758458375931 0.211225941777 -0.214871495962 0.108882509172 -0.203105479479 0.137190774083 -0.343997120857 0.612943053246 -0.572986483574 -0.0284796729684 0.00482222018763 0.184901610017 0.221691608429 0.114555813372 -0.267554372549 0.0121497223154 -0.312334567308 -0.203691810369 0.356265455484 -0.0264342986047 0.00807272829115 0.35832464695 -0.080953836441 -3.07924675941 -0.129391878843 0.0186574161053 0.227359816432 -0.0240244828165 0.198348209262 0.587512016296 0.374218016863 -0.431328058243 0.0287166945636 0.240219205618 -0.108052745461 -0.370105564594 0.210627838969 -0.0297148451209 0.165953099728 0.433639466763 -0.0876773372293 0.406041622162 -0.500933527946 0.135625883937 -0.0874783098698 0.136496037245 0.34560585022 -0.379558831453 -0.27727034688 0.0178321301937 0.0750689059496 -0.108605384827 0.173860043287 -0.241119191051 -0.178575560451 0.0105971805751 -0.0800609588623 0.152338013053 0.158704638481 0.552483618259 -0.202562376857 -0.0920545756817 0.242817357183 0.251607686281 0.2520840168 0.596693873405 -0.203517988324 0.358369171619 -0.114402867854 0.00163159845397 0.0235935691744 0.228330940008 -0.117147766054 0.151435554028 0.0793658420444 0.845721364021 0.317229419947 -0.166075110435 -0.0123152732849 0.0174497924745 0.406651705503 0.0541405379772 -0.242116361856 -0.183287277818 0.493028193712 0.034752715379 -0.037436671555 0.134760454297 0.120594292879 -0.125827848911 -0.183607235551 0.189170524478 0.021227017045 0.00936011783779 0.395843625069 -0.0308976899832 -0.709948956966 0.0790273323655 0.412636131048 -0.463931918144 0.0122646922246 -0.214202865958 0.889084517956 -0.619989335537 -0.19054223597 -0.322038412094 -0.284155279398 -0.0258388444781 -0.377497434616 -0.178171619773 -0.553005516529 0.702864229679 -0.0931914895773 0.655413746834 0.152350768447 0.0708552598953 0.000519264023751 0.234061092138 -0.705600142479 -0.43990945816 0.0141934435815 -0.391183674335 -0.0236657746136 0.256453186274 -0.166888579726 0.300172001123 -0.00290847709402 0.0798684582114 -0.413497209549 -0.0131845381111 -0.061973169446 0.316716015339 0.660738110542 0.221220210195 -0.177017956972 0.0245703756809 -0.272589027882 0.172406435013 -0.0802731961012 -0.224978834391 -0.125640958548 0.133016139269 -0.12904047966 0.0922493636608 0.34538564086 -0.438849776983 0.397446870804 -0.166766107082 -0.137325137854 0.313708841801 0.337406605482 -3.32158684731 0.102327957749 0.134687945247 -0.0548448562622 -0.0287195239216 0.113802827895 0.346000373363 0.182248204947 0.137072250247 -0.382316708565 0.0547518022358 0.149927124381 0.169638082385 -0.226766392589 0.0346308499575 0.0326678752899 -0.0886137932539 0.15405151248 -0.0579040572047 -0.0252989288419 0.153288751841 -0.284213066101 0.162284955382 0.111018583179 -0.088103428483 0.323464661837 0.0307013597339 -0.244204714894 0.314099192619 -0.105661831796 -0.322847723961 -0.529484570026 0.292173057795 0.07137799263 0.388243436813 0.152233481407 0.0121347503737 0.0258765015751 -0.434675753117 -0.20194748044 -0.043302282691 -0.654025197029 -0.897366404533 -0.163269892335 0.417145371437 -0.149622157216 -0.150151073933 -0.449255526066 -0.723290801048 0.123760461807 0.140051394701 0.0970187485218 0.14833150804 -0.412652850151 0.0365768782794 -0.269949257374 0.0568297207355 0.0723932608962 0.384389251471 0.0983044430614 -0.0516322292387 0.270232856274 -0.410672396421 0.29941084981 -0.036496527493 -0.330532670021 0.47698917985 -0.0160712283105 -0.196921005845 0.43094560504 0.142072364688 0.0697588771582 -0.111697882414 -0.364723473787 -0.0907955244184 0.391755223274\n",
            "i -0.0310854762793 -0.191803827882 -0.12843811512 -0.22439879179 0.209632784128 0.0432895831764 -4.27372550964 -0.0288347825408 0.107964977622 -0.672024071217 0.075190640986 -0.18757404387 0.0903884246945 -0.218034997582 0.254141271114 -0.193645119667 -0.0783235654235 0.0861677378416 0.338859051466 -0.0493649505079 0.543617069721 -0.21858997643 0.38285946846 0.131598383188 -0.289861738682 -0.566427409649 -0.417442321777 -0.287227720022 0.14621026814 -0.0678757950664 -0.0703226774931 -0.0515773780644 0.395855128765 -0.0334385149181 0.31435918808 -0.101350657642 -0.335859388113 -0.116925507784 0.29510268569 0.0984596088529 0.0107143362984 0.336894333363 -0.193650141358 -0.255441844463 -0.213357493281 0.00210834946483 -0.0736464709044 -0.421258121729 -0.0425829179585 -0.312124341726 -0.110046088696 -0.333483219147 0.185724765062 -0.326532274485 -0.164370849729 -0.0563372559845 0.0887784287333 -0.293616563082 0.44157871604 0.0980999171734 0.190678283572 -0.161741673946 0.106670670211 -0.305091619492 0.00751233566552 0.431015521288 -0.0966047123075 -0.117794640362 -0.374693155289 -1.04946684837 -0.225167289376 -0.194408386946 0.401731282473 -0.0682762563229 0.251090914011 -0.33440798521 0.631856024265 -0.0697538331151 0.306665956974 -0.103432565928 0.287800312042 -0.695612251759 -0.5098939538 -0.147413119674 -0.11361309886 -0.16545176506 0.151428073645 -0.0573510676622 0.0858476981521 0.0127290775999 0.230806142092 -0.0844541415572 -0.0931543633342 0.172896951437 -0.455091267824 -0.145824670792 -1.81746721268 -0.0560859590769 0.0744104608893 0.272125810385 -0.0455624386668 -0.253280311823 -0.0449760593474 -0.0984205380082 -0.0334213301539 -0.315273612738 0.00368182873353 -0.133397206664 -0.0772328898311 -0.167214304209 0.173908531666 -0.00384003133513 -0.10753390938 0.389584422112 -0.204970136285 1.07908129692 0.112969443202 -0.370067477226 0.241543188691 0.200970575213 0.175652891397 -0.0495272800326 0.140537157655 0.299868047237 0.260051935911 -0.341207385063 -0.133655160666 0.164159670472 -0.0857147499919 -0.0373617485166 -0.306865215302 -0.00872755888849 -0.12442163378 -0.349792599678 0.159603208303 -0.0441705472767 0.523501813412 -0.18549759686 0.10078035295 0.808262169361 0.117945842445 0.321359544992 0.119004257023 -0.231966033578 0.438272118568 -0.449108570814 0.300671011209 -0.283696144819 0.261419385672 0.0364407859743 0.216216012836 -0.0586525723338 0.00782280694693 -0.345583111048 -0.0632792711258 0.0331037156284 -0.2877792418 0.0587138608098 -0.277042239904 0.0602499842644 0.274264484644 0.263702958822 -0.305436134338 -0.419710159302 0.12195392698 0.455692142248 0.365738332272 -0.231301635504 0.230440452695 -0.484542071819 -0.212918117642 0.105003684759 -0.112872675061 -0.0797119438648 -0.250862419605 0.330056756735 -0.15365216136 -0.0547521598637 -0.122183740139 0.0643160790205 0.0346683263779 0.546494483948 -0.125934049487 0.0861643850803 -0.309712916613 -0.263227343559 0.243884906173 -0.372782796621 -0.00851576589048 0.00219816179015 0.386576503515 -0.28508874774 0.34479495883 -0.145325347781 0.0515656732023 0.108418665826 0.241655081511 -0.397146075964 0.282179176807 -0.312521278858 0.34042775631 -0.265942901373 -0.108746737242 0.378463685513 -0.216332435608 0.00481924647465 -0.305142998695 -0.360371798277 0.765932500362 0.324778497219 0.537615478039 -0.169973954558 -0.00443621305749 -0.441197961569 -0.0671715140343 0.144291266799 -0.175282925367 0.140175655484 0.0595577396452 -0.0937474817038 -0.0103015629575 -0.108923971653 -0.108737103641 -0.16649672389 -3.58782029152 0.153646469116 0.401613533497 -0.12040784955 0.132542997599 -0.0420493744314 -0.58204305172 0.133600085974 0.206424891949 0.0693806484342 -0.315428406 -0.0775778740644 -0.166520506144 0.498819291592 -0.322886347771 0.213625490665 -0.320340305567 0.156048685312 -1.05604362488 0.468761444092 0.128561511636 0.249129116535 -0.273285388947 0.137331619859 -0.0445985086262 0.394607812166 0.0696669742465 0.0736046805978 0.0397232174873 0.0159697011113 0.445095598698 -0.0682785138488 0.457985788584 -0.0988342016935 0.0470466725528 0.0759155526757 -0.520166754723 -0.446723639965 0.0213244110346 -0.105398759246 -0.0388196669519 -0.371361643076 0.0154912406579 -0.0911020860076 0.0790369734168 -0.469766139984 -0.0450581386685 -0.321671396494 -0.237041443586 -0.295862495899 0.0580789670348 0.104231253266 0.371727913618 0.217371031642 0.367814183235 0.0465103015304 1.10755884647 -0.255166858435 0.486837714911 0.400738269091 -0.00286170956679 0.202498838305 -0.0204706508666 0.21065287292 -0.0972458571196 0.182056218386 -0.148642376065 -0.0899587720633 -0.200747653842 -0.35750874877 0.210668325424 0.257673472166 -0.0772802010179 0.0944009125233 0.103395432234 0.0949321240187\n",
            "to -0.233013629913 -0.448183506727 0.051641728729 -0.288677245378 -0.0215449873358 0.254825621843 -4.62479496002 0.0185583382845 -0.554614424706 -0.0871134325862 0.0598840080202 -0.401594042778 -0.144776433706 -0.593848407269 -0.0214546769857 -0.0470593869686 -0.288461327553 -0.0775892585516 0.300931572914 0.229834794998 -0.0961856767535 0.0018316648202 -0.423715233803 -0.122710555792 -0.050901491195 0.0195977147669 0.197654694319 -0.0640397965908 0.0198286939412 0.0450069494545 -0.380644798279 -0.106965005398 0.170131117105 0.282880187035 -0.333284825087 0.12407720834 -0.532146036625 -0.767022311687 0.0035238978453 0.137122929096 0.0305835772306 0.620167791843 -0.233581900597 -0.392196804285 -0.359258443117 -0.533028781414 0.0384946800768 -0.0445160493255 0.0740296691656 0.0345789380372 -0.203628793359 0.255253493786 -0.158546358347 0.130251526833 0.34850114584 -0.154607906938 -0.0112598910928 -0.297400206327 -0.296589583158 -0.144494131207 -0.141183495522 -0.39928522706 0.568577766418 -0.278117388487 0.303318411112 0.159696221352 0.0234367679805 -0.218396618962 0.488893121481 -0.423346161842 0.204765304923 0.409389525652 0.064374268055 -0.140293121338 0.210023626685 -0.236780568957 0.139679580927 -0.011951229535 -0.0857813209295 -0.555137276649 -0.0613060034811 -0.103443652391 -0.118512190878 -0.379494547844 0.172103211284 0.449827969074 -0.340976238251 -0.569473028183 0.506538689137 -0.0441983938217 -0.0625291317701 0.0351194180548 -0.267435669899 -0.0801301971078 0.0317963473499 -0.590522289276 -2.80687189102 -0.0978303477168 0.672377109528 -0.170584559441 -0.236517712474 0.278322219849 0.401021718979 0.0259538963437 -0.260094434023 -0.263413369656 0.199258342385 0.192267760634 -0.0746900960803 -0.373000472784 0.268527776003 0.357852995396 -0.096422187984 0.352308869362 -0.86052441597 -0.154049351811 -0.217052087188 -0.0669708922505 -0.252319008112 0.153810501099 -0.323678761721 -0.217037916183 -0.0382159091532 -0.299915492535 -0.371794492006 0.101482987404 -0.0456807911396 0.348142683506 0.345132142305 0.380355089903 0.177896469831 0.13181604445 -0.319663196802 -0.459641039371 0.245009377599 -0.141781747341 0.186559870839 -0.413017183542 0.09718631953 0.376342117786 0.3243470788 0.0549310930073 -0.211139395833 0.221965104342 -0.0463411062956 -0.0654027089477 0.469274640083 0.103783115745 0.479482650757 0.567082822323 0.312812298536 -0.223524525762 0.0849617272615 -0.438188165426 -0.128516867757 -0.0382094308734 -0.0486988723278 0.152941182256 0.0917416661978 0.128162682056 0.0931426435709 -0.397440493107 -0.283038198948 -0.197183042765 0.217128381133 -0.171019613743 -0.153423190117 0.548780322075 0.288387566805 -0.224589824677 -0.160629689693 -0.0668852180243 -0.49447670579 -0.368806272745 -0.397616028786 0.591501176357 -0.478599280119 -0.437415093184 0.166971668601 -0.0267508681864 0.609373629093 0.0170300323516 -0.130659997463 -0.254068166018 0.269190430641 -0.374714165926 0.133978769183 -0.0279014222324 -0.118645645678 -0.168051451445 -0.438513547182 0.20341168344 0.495872199535 -0.113635294139 -0.135936960578 -0.599854409695 0.65938860178 0.398075550795 0.629170238972 -0.203392595053 0.294541031122 -0.134136155248 -0.146250277758 0.119659982622 -0.00438215350732 0.607352793217 -0.189349219203 0.19032754004 0.00138726457953 -0.498300671577 0.352134495974 -0.500238716602 -0.448802620173 0.0236881151795 -0.218185126781 0.103396907449 0.213576644659 0.143900677562 -0.00991622358561 -0.42278650403 -0.185260623693 -0.35618686676 -0.29110249877 0.327607214451 -3.17220687866 0.406058460474 0.350252389908 0.0470892973244 0.206294894218 -0.0826084017754 0.160440072417 0.113023921847 0.292887330055 0.288268655539 -0.455878287554 0.910138964653 -0.313736468554 -0.139513894916 -0.396548211575 -0.0356333181262 -0.149423986673 0.0813582837582 -0.365104526281 0.0423306971788 0.145691245794 -0.151370480657 -0.135691151023 -0.00446694111452 0.16670230031 -0.258241713047 -0.150838300586 -0.586295068264 -0.152555271983 0.0808109939098 0.23840393126 0.164787217975 0.0819679051638 -0.0828036218882 0.00844167079777 0.132830634713 0.70739376545 -0.455356419086 -0.243222311139 -0.318863362074 -0.111503645778 0.230854541063 -0.559566736221 -0.390647262335 -0.134659662843 0.0815683975816 -0.0945680439472 -0.310863316059 -0.29590472579 -0.18834617734 0.182090327144 0.463547736406 -0.0658508315682 0.137592941523 -0.423851132393 -0.293253660202 0.233130320907 -0.0366046838462 0.0943740233779 0.379779398441 -0.0647219642997 0.262408345938 -0.162502154708 0.0791885182261 -0.426467627287 -0.115751184523 0.089962542057 -0.614564716816 0.0436655133963 0.632381618023 -0.119516402483 -0.15807916224 -0.171296879649 0.0524638853967 0.153408378363 -0.37270334363\n",
            "a -0.011401145719 0.793291866779 -0.494033068419 0.0673015341163 -0.11735638231 -0.301619321108 -4.24223232269 0.823841750622 0.238753914833 -0.688843548298 0.207699865103 -0.110837973654 -0.536787509918 -0.148184135556 -0.128674551845 -0.542623102665 0.356659710407 -0.231883078814 0.0195742659271 0.0428093969822 -0.0454440899193 -0.4115447402 0.114626213908 -0.104048848152 0.0113033121452 -0.0402815788984 -0.22356531024 -0.0567428022623 -0.3352637887 -0.568349421024 -0.0710021257401 -0.215260118246 0.106616966426 0.0645845010877 -0.061675477773 0.307305425406 0.370207607746 0.281797647476 0.210051730275 -0.0103564793244 -0.475321948528 -0.151924729347 -0.181872576475 -0.18904902041 -0.0327822230756 -0.323875904083 0.0642462000251 -0.149330422282 -0.0329381115735 0.302919566631 -0.101273648441 0.752507269382 -0.280188381672 0.0917383357882 0.331063359976 -0.338453680277 0.00119208928663 -0.151823148131 0.332856148481 -0.0793744623661 -0.096685051918 -0.0381824634969 -0.467422634363 0.129676386714 0.149619266391 0.342594921589 0.134373679757 0.472349703312 -0.00890848599374 -0.416539818048 0.132143527269 0.151194170117 -0.414877444506 0.0827212631702 -0.200091421604 -0.758064627647 0.351597368717 -0.0190807580948 -0.210900887847 -0.195932894945 -0.280099153519 -0.541272461414 -0.444773942232 -0.561105906963 -0.429117500782 -0.123496122658 -0.468158602715 -0.089101433754 -0.126435354352 -0.0880886539817 0.322030127048 -0.413357406855 -0.0650835558772 0.301615536213 -0.422708272934 -0.362942457199 -2.74086713791 -0.738300263882 0.224497660995 0.432861804962 0.0701268687844 -0.0666837766767 0.708454310894 -0.292357206345 0.0270834136754 -0.191101506352 0.314121454954 0.0359828211367 -0.167181044817 -0.0514721497893 0.173378393054 0.343637675047 -0.00880729965866 -0.32525742054 -0.0456072762609 0.0142780644819 1.03392481804 0.0466839261353 0.441146850586 -0.2909258008 -0.776790440083 -0.0439640693367 0.101432785392 -0.11924803257 0.203063577414 -0.301312118769 -0.123765677214 -0.0655133277178 -0.0338319800794 0.0121757071465 -0.189053729177 0.144083231688 0.146106123924 -0.0972246527672 0.249485701323 0.0592322424054 0.261615663767 -0.126193881035 0.655705690384 0.542910158634 0.0778291150928 0.174677401781 0.468337535858 -0.307121276855 -0.49795883894 -0.00591655448079 0.561541199684 -0.24731759727 0.516695618629 0.631716787815 -0.266237676144 0.150721624494 0.350276440382 -0.269387125969 0.354788720608 -0.33292683959 0.137515887618 0.0278169773519 -0.267932325602 -0.161714732647 0.652637422085 -0.186956524849 -0.157553747296 -0.160986497998 -0.291694551706 0.269107192755 -0.0817205831409 -0.359190225601 0.129320904613 -0.143586426973 0.176799476147 -0.350129246712 0.270554751158 -0.665975868702 -0.0445994623005 0.258520543575 -0.483158320189 -0.1977032125 -0.140567854047 0.198037132621 0.728778123856 0.0994347557425 -0.321898281574 0.0752410441637 -0.134238988161 -0.539529442787 0.00617194548249 0.603442847729 0.345174431801 -0.162540584803 0.0485102199018 -0.286438584328 -0.114965334535 0.190425843 0.32079833746 -0.00705951964483 0.0569051802158 0.1302562356 0.242391720414 0.0696964710951 0.442775398493 0.00434219278395 0.192045450211 -0.296938091516 0.175412639976 0.416654199362 -0.177987009287 0.142176300287 0.395819336176 -0.155827313662 0.0455784201622 -0.359728932381 0.203060254455 0.313221544027 -0.448185026646 -0.126426294446 -0.0861358195543 -0.215340033174 -0.227438375354 -0.0301845278591 0.185355111957 0.494034856558 -0.323768973351 0.00336338067427 -3.45844268799 -0.0972981229424 -0.481177568436 -0.419473320246 -0.0408715009689 0.0515107885003 0.113730050623 -0.0431925617158 0.0640141367912 -0.228864446282 -0.0974112004042 0.454030513763 -0.0518595501781 0.32067540288 -0.128511443734 -0.392537087202 -0.467998862267 -0.0764039009809 -0.344959169626 0.367519289255 -0.262857824564 0.473508417606 0.108399011195 -0.00972685404122 -0.416252315044 0.669294655323 -0.232927113771 -0.0381140857935 -0.0250041149557 0.00651903962716 -0.00755212828517 -0.069063320756 -0.578500509262 -0.60467839241 -0.148423671722 0.194914877415 -0.164979428053 -0.515377640724 0.397160708904 0.272935926914 -0.301321774721 -0.215018466115 -0.375043392181 -0.405351370573 0.540624856949 0.0494288764894 0.828803241253 -0.385340601206 -0.421829640865 -0.396122455597 0.452633947134 -0.273111075163 -0.0814532861114 0.200020909309 -0.194411322474 -0.401733398438 0.6217648983 0.25366538763 -0.0842110589147 0.0194886792451 0.861554741859 -0.133639201522 0.598121523857 0.680072188377 -0.335601001978 -0.243203148246 0.0982588902116 0.117756277323 -0.24552719295 -0.0934222489595 -0.388385981321 -0.277153044939 0.00776999490336 0.0187617652118 -0.310064017773 -0.351996004581\n",
            "it 0.399352371693 -0.035346776247 -0.227698847651 -0.159223884344 0.331643730402 -0.0606070645154 -4.90581035614 0.425257354975 -0.0594339296222 -0.707246363163 0.0931378751993 -0.278768330812 0.25285962224 -0.0919037535787 -0.227088660002 0.0497732274234 -0.0842893496156 -0.0554877929389 0.2331225425 -0.0497325919569 0.240346372128 -0.277121245861 -0.0304000340402 -0.270564049482 0.101449467242 -0.12626992166 -0.240007415414 -0.0199735723436 0.149625778198 0.0606533326209 -0.303464084864 -0.0864638090134 0.101800344884 -0.250905275345 -0.100141398609 0.235402926803 0.159847557545 -0.206668794155 0.197871610522 -0.201972514391 0.202876478434 0.0517692491412 -0.199067756534 -0.0207917299122 0.0555719360709 0.114340566099 0.031856380403 -0.413634359837 -0.292026013136 -0.262607067823 -0.145456686616 0.268014729023 -0.238011270761 -0.13148213923 -0.120961539447 -0.587940514088 0.0187865812331 -0.185603141785 -0.0644402503967 0.0155837852508 0.324750334024 -0.117574498057 0.0769254341722 -0.0475226603448 0.00560502475128 0.253783971071 0.236739292741 0.139687284827 0.171359404922 -0.195925548673 0.0113131422549 0.325471878052 -0.0846419334412 -0.337915897369 -0.21636800468 0.134804517031 0.371323734522 0.0498616732657 0.0995675772429 0.211922466755 -0.434042483568 -0.618477880955 -0.318125993013 -0.131085902452 -0.0815527513623 -0.0894518643618 -0.110351510346 0.13476100564 -0.206199944019 0.0297121480107 0.157275497913 0.0342334583402 -0.143880233169 0.144545465708 0.128433853388 -0.0457650609314 -2.13848567009 -0.233848109841 0.166583716869 -0.102927662432 0.13372336328 0.275245934725 0.273758649826 0.268009960651 -0.094246558845 -0.236907944083 0.263321191072 -0.208887189627 0.00620958674699 -0.297361582518 -0.183959007263 -0.061582736671 -0.0859109163284 -0.141044333577 -0.315967082977 0.24841992557 0.423429429531 -0.307095497847 -0.0297410152853 0.305618405342 -0.251197248697 -0.0681163445115 0.276664197445 0.0988755822182 -0.167078584433 -0.199129223824 0.00153688178398 -0.365815401077 -0.0127117792144 0.256882697344 -0.401763379574 -0.100645519793 -0.0444208160043 0.210938230157 0.200952619314 0.0171443447471 0.352856755257 0.172875121236 0.291118323803 0.503870725632 -0.0517225414515 0.262063801289 0.41043061018 0.213611721992 -0.0158516354859 0.0673692673445 0.520511090755 -0.279113739729 0.380372554064 0.27037319541 -0.086324647069 0.13752605021 -0.174177378416 -0.492144554853 0.40427801013 -0.331781387329 -0.139788553119 0.012182706967 -0.414566576481 -0.049294270575 0.257305771112 0.198450550437 -0.289488643408 -0.0308049842715 0.143457099795 -0.0231570526958 0.0225637685508 0.145931646228 0.615737974644 -0.435921996832 -0.0243603661656 -0.0677573680878 -0.225301250815 -0.125692009926 -0.207417666912 0.163544461131 -0.173007503152 0.213983431458 -0.113293647766 -0.4752599895 0.071510873735 0.122197598219 0.202252209187 0.111820787191 -0.259691745043 -0.352715969086 0.154075294733 -0.252793312073 0.0805040597916 -0.0853787735105 0.182842344046 -0.429774343967 -0.104270234704 -0.224560379982 0.195814564824 -0.0324271544814 -0.00748929008842 -0.110359638929 0.19408839941 -0.3427990973 0.193993717432 -0.233698636293 -0.509067177773 0.11088077724 -0.0113205816597 0.172439321876 0.189092904329 0.0130304666236 0.479500323534 0.130663320422 0.0784585624933 -0.209883660078 -0.191726386547 -0.231796205044 0.0968524366617 0.0608748346567 0.141912028193 -0.17506532371 -0.192520573735 -0.125519797206 -0.0175690203905 -0.579580724239 0.357732355595 -0.405521780252 -3.06288290024 0.325284451246 -0.0555918291211 0.0224020183086 0.328838795424 -0.548786818981 0.140106543899 0.215579375625 0.00247964914888 -0.317867606878 -0.0427797175944 -0.0157619211823 -0.0568713061512 0.131830349565 -0.193853825331 -0.0586829595268 0.129355400801 0.0693876817822 -0.665993094444 0.381807565689 0.116014771163 -0.0824181437492 0.0136457206681 0.0384482480586 -0.0312160197645 0.00924076233059 0.059266936034 -0.178593158722 0.012601214461 -0.21530559659 0.214683249593 0.0276178885251 0.0250046662986 -0.0360369756818 -0.447419643402 0.1377415061 0.0818177908659 0.221235543489 -0.0678716376424 -0.392333745956 0.00452827522531 0.126672968268 -0.304060280323 -0.117178834975 -0.0615307092667 0.00355221098289 0.282245874405 0.0278345178813 -0.223045870662 -0.247491553426 0.00553996767849 0.0484609417617 0.311175376177 0.177204787731 -0.12092436105 -0.0877474173903 1.06172561646 -0.337469696999 0.128402903676 -0.037539973855 -0.0915740728378 -0.0463928282261 -0.100776575506 -0.257701784372 -0.276112943888 -0.0486328825355 -0.0150490049273 0.00149943504948 -0.211845755577 -0.115285083652 0.148761734366 0.0354505591094 0.358215153217 -0.157316938043 -0.0966508463025 0.198678061366\n",
            "of -0.024382462725 -0.271116584539 0.0833314433694 -0.595943272114 -0.0161536503583 0.067686714232 -3.85346317291 0.543536007404 -0.0876365527511 -0.404437333345 0.446601569653 0.0209037456661 -0.391819179058 -0.0143377939239 0.267232000828 -0.456039220095 -0.497449100018 -0.392554819584 -0.274867653847 0.429115861654 -0.000213613471715 -0.246524393559 0.550448417664 0.153560891747 -0.297453194857 0.0522934161127 -0.285983234644 -0.519203841686 -0.455310493708 -0.508517563343 -0.183457657695 -0.254095584154 -0.732288122177 0.0246180929244 0.111244924366 -0.01898047328 -0.253182411194 -0.411621779203 -0.0780563876033 -0.207744270563 -0.179183974862 0.049628905952 0.149787917733 -0.427265971899 -0.204387158155 0.239791885018 -0.364355146885 -0.214585721493 -0.469397515059 0.830016791821 0.520426332951 0.222223743796 0.138649746776 0.469208478928 -0.193694189191 0.133632570505 0.226355060935 -0.470145493746 0.0018968807999 0.0372138693929 0.116549111903 0.308926641941 -0.139150455594 -0.140101268888 -0.0794687718153 0.144267469645 0.517267286777 -0.164293825626 -0.104116201401 0.688986241817 -0.477994531393 0.0516122318804 -0.185035973787 0.212435230613 -0.0319821275771 -0.421696960926 0.471220165491 -0.174880072474 0.0421264991164 -0.731873989105 -0.0242913495749 -1.15633034706 0.0607696063817 -0.599371612072 0.472746819258 0.0859986916184 0.0747954323888 -0.0602186992764 0.276255190372 -0.202872008085 0.343340605497 -0.0188342295587 0.342101126909 0.424575120211 -0.201872900128 -0.298341482878 -3.42944264412 -0.263951659203 -0.0145619716495 0.219802647829 0.243920251727 0.77272105217 0.00207093707286 0.0610324144363 -0.53583240509 -0.316725730896 0.0321855321527 -0.444015443325 -0.872642040253 0.130139216781 0.227662846446 0.631519079208 -0.240370765328 0.20107100904 0.0166363809258 0.246924743056 0.136148929596 0.479191362858 0.638644933701 -0.102205678821 -0.222536087036 0.468807667494 0.0941904336214 -0.221191912889 -0.0536883808672 0.267897635698 -0.359026044607 0.355957210064 0.447777032852 0.680435955524 -0.00338796526194 -0.304762035608 0.025000102818 -0.191289871931 0.00898546539247 0.221166625619 0.0119922077283 0.136411711574 0.328230470419 0.0189522672445 0.180664435029 -0.315882831812 -0.090575568378 -0.0281899087131 0.0971221402287 -0.123342856765 -0.0317897126079 -0.107877910137 0.438445359468 0.39101549983 0.0672573596239 -0.523083567619 -0.438600569963 0.544207572937 -0.421656787395 -0.0746996253729 0.326807290316 -0.189211159945 -0.100805863738 -0.432557970285 -0.088965408504 -0.312959372997 0.210884004831 -0.153988495469 -0.093956425786 -0.184395968914 0.00789756793529 0.171356663108 0.144767969847 0.0305856820196 0.324973285198 0.112361587584 -0.0360958985984 0.558126807213 0.241842582822 0.606347441673 -0.283621430397 -0.0114534627646 -0.309476196766 0.222299873829 -0.071719288826 0.031806409359 -0.294235169888 -0.468939810991 0.733050942421 -0.560433268547 0.223255500197 -0.0740414261818 0.185574144125 -0.268362104893 -0.161020338535 0.0243023168296 0.129459261894 0.214092925191 0.22877509892 -0.147702172399 -0.145497083664 0.364983946085 0.610860168934 0.253229618073 -0.347051471472 0.47252574563 0.186071172357 -0.376544356346 -0.0467209368944 0.204265087843 0.358598798513 -0.110997498035 -0.520568966866 -0.0424396321177 0.422918051481 0.10339897871 -0.153352454305 0.168145909905 -0.329242706299 -0.157808810472 -0.51176404953 -0.081588037312 -0.301484018564 0.333797067404 -0.0440206415951 -0.0532870255411 -0.215187370777 -0.046397190541 -3.27135586739 -0.117396853864 -0.10163525492 -0.0379914827645 -0.0452477447689 -0.1595454216 0.203232169151 0.233033314347 0.0187831167132 0.0798901468515 0.0891908183694 0.143642053008 0.24507600069 -0.243882223964 -0.229398131371 -0.0767634138465 -0.423426121473 0.00874151010066 -0.072637245059 -0.153625547886 0.112145841122 0.139389753342 -0.393852800131 -0.200215637684 -0.345073163509 -0.0181338787079 -0.192295506597 -0.000856250699144 -0.222138956189 0.292876124382 -0.646480083466 0.130978956819 -0.011771096848 -0.644781112671 -0.210197791457 0.523310184479 0.237710863352 0.534458100796 -0.11675567925 0.230846881866 0.261419534683 -0.111958138645 -0.206439763308 0.148023292422 0.245141372085 0.516152918339 0.120104700327 0.0381154417992 -0.566223263741 0.322306752205 -0.0942392870784 0.22501309216 0.176347970963 0.132568210363 0.285464853048 -0.0758268386126 0.681934177876 0.342896461487 -0.234665676951 0.259392559528 -0.15724016726 -0.0187196973711 -0.0158210210502 0.168931633234 -0.100754618645 0.0398604348302 -0.0170869845897 -0.647125780582 0.0889556482434 0.131278291345 0.220758795738 0.296014606953 -0.261654883623 -0.489976912737 0.299421966076 0.281336128712\n",
            "is 0.113607689738 0.343697339296 -0.0464922711253 -0.187486216426 0.204297110438 -0.0966345518827 -4.03520345688 0.964653491974 -0.0590791366994 -0.819060623646 0.397493064404 0.103784814477 0.183559641242 -0.0499733611941 -0.37454944849 -0.356640994549 0.0953598842025 -0.122019387782 -0.0282342415303 0.064094081521 0.145529210567 0.300449550152 0.271997749805 0.0882984474301 0.346948385239 -0.0238736886531 -0.366705715656 -0.356775015593 -0.196669057012 -0.0567914433777 -0.243301853538 -0.0969670936465 0.231875687838 -0.330611526966 -0.445069789886 0.116480544209 0.575735449791 0.181029647589 0.230679005384 0.258432537317 0.0988891944289 -0.175948023796 -0.278655290604 -0.189614340663 0.00995660107583 0.131655797362 -0.0841359421611 -0.434953570366 -0.265634536743 -0.0901967138052 0.142840102315 0.837615311146 -0.134462580085 -0.0881269574165 -0.123576775193 -0.64382392168 -0.104973614216 0.218833878636 -0.16844214499 0.0819973796606 -0.506121218204 -0.0418037772179 -0.0313076451421 0.115823358297 0.254411935806 0.273119211197 0.45847851038 0.0877556204796 0.0317211598158 -0.214817836881 -0.185849994421 0.148937180638 -0.315965771675 -0.377381712198 -0.0852007716894 -0.456107765436 0.399534404278 -0.156150817871 0.129052326083 0.0698809549212 -0.349014818668 -1.25194060802 -0.52739572525 -0.520313918591 0.26424074173 0.244465261698 -0.27984842658 -0.19928894937 0.0942540764809 -0.166649132967 0.0577088408172 0.143743231893 -0.262383818626 0.549956977367 0.43986338377 0.0902036428452 -2.47603416443 -0.0790388733149 -0.23745316267 -0.0798738002777 0.392666608095 0.148007586598 0.293650835752 0.265318870544 0.194336920977 -0.197649329901 -0.0580128021538 -0.302455246449 -0.244714930654 -0.0278810337186 -7.42168849683e-05 -0.186990022659 -0.316769331694 0.100067570806 -0.248612582684 0.17417742312 0.540643513203 -0.181658521295 0.291036874056 -0.179255023599 -0.312560945749 -0.240977242589 -0.0735259950161 -0.00569871161133 0.314015448093 0.055699814111 0.349025934935 -0.379568845034 -0.0373010672629 0.117986410856 -0.180799722672 -0.0457770042121 -0.0421071909368 0.13640357554 0.00309531460516 -0.0498639196157 0.0932047590613 0.153031080961 0.394422054291 -0.0155660109594 0.0999003276229 0.244226098061 0.306820839643 -0.00834807381034 -0.568334341049 0.226294353604 0.385251820087 -0.135425359011 0.152450740337 0.0396970584989 -0.325510263443 0.0666600763798 -0.377691835165 -0.126618951559 0.192623719573 -0.485542297363 -0.230779454112 0.50750374794 -0.0508720315993 -0.009561996907 0.463819682598 -0.311337500811 -0.173066467047 0.0789960101247 -0.0249553099275 0.111172556877 -0.123113997281 0.259405195713 0.723091483116 -0.287864953279 0.441086620092 -0.174977436662 0.199373573065 0.105337701738 -0.167387619615 0.731467723846 0.329595655203 -0.183923110366 0.13436318934 -0.192493587732 0.0484889261425 -0.146501600742 0.0795585215092 0.116433851421 0.219311222434 -0.669487833977 0.518680632114 0.252988368273 0.136684164405 -0.0320778116584 -0.213715717196 0.34838026762 0.426947504282 -0.186314821243 0.566941082478 0.433408886194 0.159305915236 -0.255294829607 0.440302282572 -0.420946121216 0.103399321437 -0.0332494899631 0.0568607151508 -0.0712042152882 0.00732591608539 0.393487870693 0.320344060659 0.313144207001 0.227325126529 -0.142668634653 -0.123444601893 -0.182986631989 0.161420911551 0.071769207716 0.0764411315322 0.367319136858 0.248891755939 -0.542123198509 -0.173362702131 -0.575346231461 -0.289309948683 -0.222208678722 0.30745279789 -0.0983977839351 -3.36142921448 -0.543037235737 -0.313622266054 -0.210253760219 0.0706253796816 -0.299583613873 -0.141049563885 0.404751330614 -0.105660967529 -0.580115556717 0.00980233028531 -0.143106132746 0.507205247879 0.0395983420312 -0.0718874931335 -0.149664029479 0.0483777299523 -0.28879198432 -0.21223321557 0.213398963213 0.25177565217 -0.0426558181643 0.0924394279718 -0.101088650525 -0.111009813845 0.203937232494 -0.113409988582 -0.00813664961606 -0.0439498759806 0.137694150209 0.368301153183 0.0444695614278 0.0487027652562 -0.0279849171638 0.141877040267 0.136582940817 0.137631341815 -0.231906607747 -0.271558374166 0.0730055421591 0.0898228362203 0.124450869858 -0.757658779621 -0.12070338428 0.215065434575 0.010270438157 0.423278659582 -0.192999839783 -0.150154188275 0.0999831035733 -0.627582967281 0.171987339854 0.157965749502 0.249019652605 -0.307093977928 -0.284500062466 0.822417795658 -0.428113698959 -0.212761938572 0.0605210140347 -0.0719495415688 0.281915992498 0.339513510466 0.188270077109 -0.212911307812 -0.582304000854 -0.0713940709829 -0.00388583587483 -0.249464780092 0.234185352921 0.20293815434 0.0688016936183 0.128920257092 -0.387769430876 0.282269358635 -0.170122399926\n",
            "this 0.210833996534 0.296649515629 0.0412060804665 -0.222050637007 0.944666802883 -0.373011499643 -4.29709005356 0.33937138319 -0.595730006695 -0.569841265678 0.221637517214 -0.0237448792905 -0.0756025537848 0.379420787096 0.115035876632 -0.579696595669 -0.295306771994 -0.0412296056747 0.414794057608 0.330803453922 -0.0271880757064 -0.0612899363041 -0.0017183549935 -0.0846610367298 -0.189340099692 0.0560346655548 -0.371387839317 0.588800609112 -0.240935280919 0.47926852107 -0.368341416121 0.320604294538 0.386783480644 0.00207592942752 -0.415117591619 0.0724464803934 0.55643671751 -0.0505775511265 0.62949436903 -0.106679342687 0.226975977421 -0.213226899505 -0.285703778267 -0.243985250592 0.00338115775958 -0.111887291074 0.125063613057 0.0189308393747 -0.126460984349 -0.0866492688656 0.241220936179 0.809558570385 -0.106111094356 -0.320449888706 0.497381746769 -0.276528894901 0.259129434824 0.348042994738 0.218795910478 0.357070833445 0.151154562831 -0.0935330241919 -0.260780662298 -0.276989758015 -0.246998921037 0.168657466769 -0.176470413804 -0.0194263383746 -0.0633566379547 -0.471644669771 0.0197892338037 0.2903868258 -0.234021857381 -0.508054256439 -0.160087451339 0.0317417606711 -0.0216585807502 0.573457598686 -0.131864950061 0.208220526576 -0.245461061597 -0.940725266933 -0.538587212563 -0.387372821569 -0.021352076903 -0.325733214617 0.388753473759 -0.277602434158 -0.033406149596 -0.000352658855263 0.0240869466215 0.160964816809 0.161707594991 0.161275118589 0.0688894316554 0.0284125413746 -2.59413385391 0.0124627193436 -0.377833425999 0.395496696234 -0.0998573675752 -0.210362702608 0.0759894326329 -0.237409561872 -0.0572744198143 -0.467945128679 0.585168898106 -0.0193729121238 -0.107686072588 -0.192943990231 -0.419772684574 -0.0506416335702 -0.431985706091 -0.255635976791 -0.401644647121 0.504823088646 0.643094420433 0.0903449580073 -0.184159964323 0.0195296201855 0.0508918836713 0.237628489733 0.382935076952 -0.016189981252 0.0421502403915 -0.238311648369 0.798022568226 -0.299260646105 0.238560751081 -0.0588233619928 0.25859990716 0.138686746359 -0.146713778377 -0.149738699198 0.632015764713 -0.0816879346967 -0.306188613176 0.0844814479351 0.314562529325 0.260860145092 0.168609857559 0.222338855267 0.0690099149942 -0.0978334024549 -0.330349385738 -0.14807190001 0.247106105089 -0.144522219896 0.641708254814 -0.133760750294 -0.263612210751 -0.0654592141509 -0.0543001331389 0.0900213569403 0.0519388951361 0.206277266145 -0.0249236319214 -0.171652898192 -0.482421606779 -0.196208685637 0.89744335413 0.224416509271 0.02030155994 -0.138013184071 0.100615531206 0.327119141817 -0.415993094444 0.183512791991 0.358658432961 0.0862244591117 -0.0804195404053 -0.51075142622 -0.0535486862063 -0.493619799614 0.00932227633893 0.200663253665 -0.403778970242 0.0256533604115 -0.174359753728 -0.376652151346 0.492812663317 0.608730018139 0.137635678053 -0.112431287766 -0.163300812244 -0.25728315115 0.0833261236548 -0.276919543743 0.252176463604 0.00823160167783 -0.32040143013 0.207247525454 -0.239408954978 -0.475978553295 0.000841516943183 0.0487109608948 0.306405872107 -0.0321574732661 0.659620821476 -0.0639757961035 0.115174487233 0.0436307303607 0.06570392102 0.116022750735 0.0827319547534 -0.236002057791 0.00709345052019 0.233817577362 0.509665966034 -0.141449868679 -0.0113503858447 0.239273920655 -0.0638374984264 -0.0198821444064 -0.342566341162 0.144685268402 -0.144087329507 0.132000193 -0.280544698238 -0.0591978803277 -0.0264724604785 -0.245867133141 0.0423728376627 -0.119900673628 -3.14693641663 -0.0600997358561 -0.210376858711 -0.492680758238 0.234912261367 -0.0951971337199 0.311530739069 -0.299053281546 0.277520567179 -0.386806756258 -0.399606645107 -0.0347082465887 -0.30390933156 0.374755471945 -0.477978289127 -0.395374298096 -0.0207880027592 0.101984553039 -0.860737085342 0.241663217545 -0.0778884217143 -0.564451038837 0.12781445682 0.520296931267 0.21837040782 0.35674098134 -0.0746895670891 -0.529015958309 0.342659831047 0.0299504175782 0.553065776825 0.210461750627 -0.122940458357 -0.12682120502 -0.439207196236 -0.39963927865 -0.0779074504972 -0.333180725574 -0.422662198544 0.25413620472 0.350524574518 -0.293117314577 -0.173886150122 0.460949510336 -0.0784260109067 -0.102233670652 -0.0369924530387 0.403467267752 -0.115827858448 -0.115026116371 -0.269531488419 -0.0104611515999 0.431373625994 0.0764814317226 0.217921063304 -0.168531611562 0.884321808815 0.00807110406458 -0.365556508303 0.0836574137211 0.100709222257 -0.254609286785 0.0161128044128 0.120480783284 -0.358528196812 -0.289405018091 0.129010602832 0.500070273876 0.0538169369102 -0.187618270516 -0.110312111676 -0.306248039007 -0.292041957378 -0.261254936457 -0.216551274061 -0.018503177911\n",
            "in 0.0675135180354 -0.0113011132926 0.314410954714 -0.417032331228 0.0931020081043 -0.0231911558658 -3.75416064262 0.424178570509 0.0224951636046 -0.0486022420228 0.306964665651 0.0919690802693 0.342857599258 0.220817700028 -0.242578402162 0.186522439122 0.0728724524379 -0.0853391513228 0.0283823385835 0.667608976364 0.112026043236 -0.193077757955 -0.0984008312225 0.327629238367 -0.12275955081 0.0896851494908 0.153280854225 -0.448221176863 -0.0124815916643 -0.403942614794 -0.527899026871 0.0918330550194 -0.408821552992 0.126493260264 -0.349226355553 -0.144120261073 0.127473294735 0.183546707034 -0.332620084286 -0.428045243025 0.106605023146 0.312890022993 -0.292301803827 0.044734697789 -0.523021757603 -0.2301556319 0.244051352143 -0.308335006237 -0.28361082077 0.150156319141 0.593223810196 0.684999525547 0.0242637172341 -0.0777887254953 -0.0746746882796 0.738424539566 0.0765627324581 -0.190620407462 -0.377612680197 -0.133410766721 0.00546757644042 0.190794542432 0.178281605244 -0.296078771353 -0.268559157848 -0.0471788011491 0.20691613853 0.597676992416 0.541417956352 -0.120053067803 -0.78350186348 0.435772359371 -0.617283761501 0.337549746037 -0.281771659851 -0.141325101256 0.37446141243 -0.386240333319 0.423329055309 0.0452466532588 -0.267987519503 -1.3637496233 -0.241135179996 -0.389504432678 -0.120598636568 0.217701524496 0.186054140329 -0.181312352419 0.613007247448 0.145874425769 -0.545763492584 -0.50311768055 -0.00511622754857 -0.0948315486312 0.209123745561 -0.174428939819 -2.95391225815 0.299650251865 0.0941983908415 0.269716858864 0.215867862105 0.0123286023736 0.398591637611 0.301684617996 -0.197609275579 0.162122264504 0.170832246542 -0.0935070961714 0.286151379347 -0.182721093297 -0.076937071979 0.436393618584 0.652014434338 -0.339102864265 -0.522722184658 0.321996718645 0.253538072109 -0.349899321795 0.582140803337 0.249412700534 -0.402850359678 -0.197675570846 0.0114729627967 -0.595340907574 0.375752598047 0.0770072937012 -0.149319916964 -0.112666763365 -0.205102041364 -0.0488314926624 0.36929282546 0.412735015154 -0.489292234182 -0.0159786883742 0.020483719185 0.105218648911 0.0224780905992 0.358750462532 0.995937168598 0.449324697256 -0.240921452641 -0.311755627394 -0.253256112337 0.379515081644 -0.075778067112 0.215662479401 -0.134296894073 -0.23601450026 0.613220870495 0.472818732262 -0.0815038084984 -0.394163608551 0.0935297310352 0.137477919459 -0.0175275634974 -0.57820546627 0.0925510823727 -0.316233187914 -0.838675141335 0.00404165498912 0.552924394608 -0.207441568375 0.254241317511 -0.221842497587 -0.39557954669 0.0728617087007 -0.0217311121523 0.240614145994 0.0343589559197 -0.0216605849564 0.0467972010374 -0.121972367167 0.425348430872 0.176088839769 0.00103341555223 0.364724636078 0.0219164248556 -0.269644021988 -0.28483235836 -0.04192795977 -0.754708826542 -0.277828007936 -0.51456618309 -0.482994318008 -0.210300728679 -0.285323351622 -0.119611784816 0.16501390934 0.299449950457 -0.159012213349 0.0668137148023 -0.0110776703805 0.198912993073 -0.17834982276 0.149498209357 -0.110724374652 0.256959199905 0.156944543123 0.378934383392 -0.147113084793 -0.157547965646 0.0606456063688 0.00660468637943 -0.0715289786458 0.258310139179 0.178214654326 0.151469573379 -0.202132612467 0.205047383904 -0.158235818148 0.180203691125 0.0186633151025 0.0222617704421 0.304246664047 -0.270070791245 -0.236872166395 0.132488235831 0.401042968035 0.318517565727 0.57164144516 -0.290318340063 -0.0753818675876 0.116850867867 0.038941193372 -3.44770264626 0.311967343092 0.022375524044 -0.0208143722266 0.168242439628 0.160728082061 -0.295999079943 0.0248706582934 -0.00791025720537 0.309951931238 -0.3579210639 0.286509692669 -0.389475405216 0.289356142282 -0.489896953106 0.0389081761241 0.0644953399897 -0.046592399478 0.0436910130084 0.157869800925 -0.118194974959 -0.0797976404428 0.372253358364 -0.293725878 -0.252772152424 0.40966129303 -0.306468427181 0.0321833528578 0.172267258167 -0.116933234036 -0.105822265148 -0.181387677789 -0.0279134698212 -0.336470454931 -0.0481888689101 0.653616547585 0.361015379429 -0.228736698627 -0.0993681102991 -0.4256272614 0.570311188698 -0.477999210358 -0.00268316804431 -0.151274472475 0.557735383511 -0.0391049794853 -0.585267543793 -0.399367511272 0.193939179182 0.266509175301 0.458797901869 -0.478333622217 -0.440584689379 0.00453667808324 -0.307290971279 0.0907973572612 0.552297711372 -0.0470204427838 -0.234722584486 0.639363706112 0.0334836877882 -0.29140791297 -0.20807044208 0.149814859033 0.181687489152 0.140080630779 0.0825337767601 -0.679528594017 0.579172134399 -0.157032683492 0.101018309593 -0.368527531624 0.112905055285 -0.243554130197 0.416534900665 -0.242826998234\n"
          ],
          "name": "stdout"
        }
      ]
    },
    {
      "cell_type": "code",
      "metadata": {
        "colab": {
          "base_uri": "https://localhost:8080/"
        },
        "id": "KkUSbv2JQc8p",
        "outputId": "1a12f03f-200b-4961-b09e-f68e73308100"
      },
      "source": [
        "import pandas as pd\n",
        "\n",
        "df = pd.read_csv('ewe_uni.txt', sep = \" \", header=None, index_col=0)\n",
        "df.shape"
      ],
      "execution_count": null,
      "outputs": [
        {
          "output_type": "execute_result",
          "data": {
            "text/plain": [
              "(183712, 300)"
            ]
          },
          "metadata": {
            "tags": []
          },
          "execution_count": 3
        }
      ]
    },
    {
      "cell_type": "code",
      "metadata": {
        "colab": {
          "base_uri": "https://localhost:8080/",
          "height": 276
        },
        "id": "MMOdjQ3xTY6Z",
        "outputId": "48912b0f-420c-4b03-ab4e-3764f92d99a8"
      },
      "source": [
        "df.head()"
      ],
      "execution_count": null,
      "outputs": [
        {
          "output_type": "execute_result",
          "data": {
            "text/html": [
              "<div>\n",
              "<style scoped>\n",
              "    .dataframe tbody tr th:only-of-type {\n",
              "        vertical-align: middle;\n",
              "    }\n",
              "\n",
              "    .dataframe tbody tr th {\n",
              "        vertical-align: top;\n",
              "    }\n",
              "\n",
              "    .dataframe thead th {\n",
              "        text-align: right;\n",
              "    }\n",
              "</style>\n",
              "<table border=\"1\" class=\"dataframe\">\n",
              "  <thead>\n",
              "    <tr style=\"text-align: right;\">\n",
              "      <th></th>\n",
              "      <th>1</th>\n",
              "      <th>2</th>\n",
              "      <th>3</th>\n",
              "      <th>4</th>\n",
              "      <th>5</th>\n",
              "      <th>6</th>\n",
              "      <th>7</th>\n",
              "      <th>8</th>\n",
              "      <th>9</th>\n",
              "      <th>10</th>\n",
              "      <th>11</th>\n",
              "      <th>12</th>\n",
              "      <th>13</th>\n",
              "      <th>14</th>\n",
              "      <th>15</th>\n",
              "      <th>16</th>\n",
              "      <th>17</th>\n",
              "      <th>18</th>\n",
              "      <th>19</th>\n",
              "      <th>20</th>\n",
              "      <th>21</th>\n",
              "      <th>22</th>\n",
              "      <th>23</th>\n",
              "      <th>24</th>\n",
              "      <th>25</th>\n",
              "      <th>26</th>\n",
              "      <th>27</th>\n",
              "      <th>28</th>\n",
              "      <th>29</th>\n",
              "      <th>30</th>\n",
              "      <th>31</th>\n",
              "      <th>32</th>\n",
              "      <th>33</th>\n",
              "      <th>34</th>\n",
              "      <th>35</th>\n",
              "      <th>36</th>\n",
              "      <th>37</th>\n",
              "      <th>38</th>\n",
              "      <th>39</th>\n",
              "      <th>40</th>\n",
              "      <th>...</th>\n",
              "      <th>261</th>\n",
              "      <th>262</th>\n",
              "      <th>263</th>\n",
              "      <th>264</th>\n",
              "      <th>265</th>\n",
              "      <th>266</th>\n",
              "      <th>267</th>\n",
              "      <th>268</th>\n",
              "      <th>269</th>\n",
              "      <th>270</th>\n",
              "      <th>271</th>\n",
              "      <th>272</th>\n",
              "      <th>273</th>\n",
              "      <th>274</th>\n",
              "      <th>275</th>\n",
              "      <th>276</th>\n",
              "      <th>277</th>\n",
              "      <th>278</th>\n",
              "      <th>279</th>\n",
              "      <th>280</th>\n",
              "      <th>281</th>\n",
              "      <th>282</th>\n",
              "      <th>283</th>\n",
              "      <th>284</th>\n",
              "      <th>285</th>\n",
              "      <th>286</th>\n",
              "      <th>287</th>\n",
              "      <th>288</th>\n",
              "      <th>289</th>\n",
              "      <th>290</th>\n",
              "      <th>291</th>\n",
              "      <th>292</th>\n",
              "      <th>293</th>\n",
              "      <th>294</th>\n",
              "      <th>295</th>\n",
              "      <th>296</th>\n",
              "      <th>297</th>\n",
              "      <th>298</th>\n",
              "      <th>299</th>\n",
              "      <th>300</th>\n",
              "    </tr>\n",
              "    <tr>\n",
              "      <th>0</th>\n",
              "      <th></th>\n",
              "      <th></th>\n",
              "      <th></th>\n",
              "      <th></th>\n",
              "      <th></th>\n",
              "      <th></th>\n",
              "      <th></th>\n",
              "      <th></th>\n",
              "      <th></th>\n",
              "      <th></th>\n",
              "      <th></th>\n",
              "      <th></th>\n",
              "      <th></th>\n",
              "      <th></th>\n",
              "      <th></th>\n",
              "      <th></th>\n",
              "      <th></th>\n",
              "      <th></th>\n",
              "      <th></th>\n",
              "      <th></th>\n",
              "      <th></th>\n",
              "      <th></th>\n",
              "      <th></th>\n",
              "      <th></th>\n",
              "      <th></th>\n",
              "      <th></th>\n",
              "      <th></th>\n",
              "      <th></th>\n",
              "      <th></th>\n",
              "      <th></th>\n",
              "      <th></th>\n",
              "      <th></th>\n",
              "      <th></th>\n",
              "      <th></th>\n",
              "      <th></th>\n",
              "      <th></th>\n",
              "      <th></th>\n",
              "      <th></th>\n",
              "      <th></th>\n",
              "      <th></th>\n",
              "      <th></th>\n",
              "      <th></th>\n",
              "      <th></th>\n",
              "      <th></th>\n",
              "      <th></th>\n",
              "      <th></th>\n",
              "      <th></th>\n",
              "      <th></th>\n",
              "      <th></th>\n",
              "      <th></th>\n",
              "      <th></th>\n",
              "      <th></th>\n",
              "      <th></th>\n",
              "      <th></th>\n",
              "      <th></th>\n",
              "      <th></th>\n",
              "      <th></th>\n",
              "      <th></th>\n",
              "      <th></th>\n",
              "      <th></th>\n",
              "      <th></th>\n",
              "      <th></th>\n",
              "      <th></th>\n",
              "      <th></th>\n",
              "      <th></th>\n",
              "      <th></th>\n",
              "      <th></th>\n",
              "      <th></th>\n",
              "      <th></th>\n",
              "      <th></th>\n",
              "      <th></th>\n",
              "      <th></th>\n",
              "      <th></th>\n",
              "      <th></th>\n",
              "      <th></th>\n",
              "      <th></th>\n",
              "      <th></th>\n",
              "      <th></th>\n",
              "      <th></th>\n",
              "      <th></th>\n",
              "      <th></th>\n",
              "    </tr>\n",
              "  </thead>\n",
              "  <tbody>\n",
              "    <tr>\n",
              "      <th>the</th>\n",
              "      <td>-0.193682</td>\n",
              "      <td>-0.152885</td>\n",
              "      <td>0.007644</td>\n",
              "      <td>-0.025400</td>\n",
              "      <td>-0.052742</td>\n",
              "      <td>-0.258357</td>\n",
              "      <td>-4.137826</td>\n",
              "      <td>0.640544</td>\n",
              "      <td>0.333552</td>\n",
              "      <td>-0.422751</td>\n",
              "      <td>0.393501</td>\n",
              "      <td>-0.184654</td>\n",
              "      <td>0.133011</td>\n",
              "      <td>-0.020217</td>\n",
              "      <td>0.382724</td>\n",
              "      <td>-0.558341</td>\n",
              "      <td>-0.111894</td>\n",
              "      <td>-0.009170</td>\n",
              "      <td>0.313257</td>\n",
              "      <td>0.072367</td>\n",
              "      <td>0.102137</td>\n",
              "      <td>-0.078957</td>\n",
              "      <td>-0.056738</td>\n",
              "      <td>-0.280855</td>\n",
              "      <td>-0.458378</td>\n",
              "      <td>0.263874</td>\n",
              "      <td>0.076608</td>\n",
              "      <td>-0.039393</td>\n",
              "      <td>-0.204307</td>\n",
              "      <td>0.008579</td>\n",
              "      <td>-0.297832</td>\n",
              "      <td>0.173264</td>\n",
              "      <td>0.058496</td>\n",
              "      <td>-0.271546</td>\n",
              "      <td>0.092400</td>\n",
              "      <td>0.354975</td>\n",
              "      <td>0.045700</td>\n",
              "      <td>-0.160491</td>\n",
              "      <td>0.504981</td>\n",
              "      <td>-0.177411</td>\n",
              "      <td>...</td>\n",
              "      <td>0.579856</td>\n",
              "      <td>0.037185</td>\n",
              "      <td>0.233125</td>\n",
              "      <td>0.091044</td>\n",
              "      <td>0.273201</td>\n",
              "      <td>-0.388284</td>\n",
              "      <td>-0.091681</td>\n",
              "      <td>-0.064427</td>\n",
              "      <td>-0.026111</td>\n",
              "      <td>-0.015507</td>\n",
              "      <td>-0.015101</td>\n",
              "      <td>-0.432628</td>\n",
              "      <td>-0.092265</td>\n",
              "      <td>0.057812</td>\n",
              "      <td>-0.083418</td>\n",
              "      <td>0.244402</td>\n",
              "      <td>0.210188</td>\n",
              "      <td>0.341311</td>\n",
              "      <td>-0.210002</td>\n",
              "      <td>-0.312075</td>\n",
              "      <td>0.464766</td>\n",
              "      <td>0.248351</td>\n",
              "      <td>0.071627</td>\n",
              "      <td>0.200840</td>\n",
              "      <td>0.208887</td>\n",
              "      <td>0.151322</td>\n",
              "      <td>0.067143</td>\n",
              "      <td>-0.333517</td>\n",
              "      <td>-0.161027</td>\n",
              "      <td>-0.068878</td>\n",
              "      <td>-0.041493</td>\n",
              "      <td>-0.459033</td>\n",
              "      <td>0.031957</td>\n",
              "      <td>0.557199</td>\n",
              "      <td>-0.263875</td>\n",
              "      <td>0.389589</td>\n",
              "      <td>0.258330</td>\n",
              "      <td>-0.539710</td>\n",
              "      <td>0.212540</td>\n",
              "      <td>0.001292</td>\n",
              "    </tr>\n",
              "    <tr>\n",
              "      <th>and</th>\n",
              "      <td>-0.080430</td>\n",
              "      <td>-0.260765</td>\n",
              "      <td>-0.330572</td>\n",
              "      <td>-0.324780</td>\n",
              "      <td>0.587497</td>\n",
              "      <td>-0.510149</td>\n",
              "      <td>-4.152569</td>\n",
              "      <td>-0.105487</td>\n",
              "      <td>-0.098302</td>\n",
              "      <td>-0.473570</td>\n",
              "      <td>0.192773</td>\n",
              "      <td>-0.084022</td>\n",
              "      <td>-0.443611</td>\n",
              "      <td>-0.340004</td>\n",
              "      <td>-0.446063</td>\n",
              "      <td>-0.354435</td>\n",
              "      <td>-0.462328</td>\n",
              "      <td>-0.817775</td>\n",
              "      <td>0.249322</td>\n",
              "      <td>0.201536</td>\n",
              "      <td>-0.117942</td>\n",
              "      <td>0.140744</td>\n",
              "      <td>-0.546480</td>\n",
              "      <td>0.324439</td>\n",
              "      <td>-0.089970</td>\n",
              "      <td>-0.026351</td>\n",
              "      <td>-0.127334</td>\n",
              "      <td>-0.434939</td>\n",
              "      <td>-0.012261</td>\n",
              "      <td>-0.434210</td>\n",
              "      <td>-0.034646</td>\n",
              "      <td>0.122657</td>\n",
              "      <td>0.516590</td>\n",
              "      <td>-0.521587</td>\n",
              "      <td>-0.248765</td>\n",
              "      <td>-0.505052</td>\n",
              "      <td>-0.060160</td>\n",
              "      <td>-0.300749</td>\n",
              "      <td>0.265706</td>\n",
              "      <td>0.048128</td>\n",
              "      <td>...</td>\n",
              "      <td>0.012135</td>\n",
              "      <td>0.025877</td>\n",
              "      <td>-0.434676</td>\n",
              "      <td>-0.201947</td>\n",
              "      <td>-0.043302</td>\n",
              "      <td>-0.654025</td>\n",
              "      <td>-0.897366</td>\n",
              "      <td>-0.163270</td>\n",
              "      <td>0.417145</td>\n",
              "      <td>-0.149622</td>\n",
              "      <td>-0.150151</td>\n",
              "      <td>-0.449256</td>\n",
              "      <td>-0.723291</td>\n",
              "      <td>0.123760</td>\n",
              "      <td>0.140051</td>\n",
              "      <td>0.097019</td>\n",
              "      <td>0.148332</td>\n",
              "      <td>-0.412653</td>\n",
              "      <td>0.036577</td>\n",
              "      <td>-0.269949</td>\n",
              "      <td>0.056830</td>\n",
              "      <td>0.072393</td>\n",
              "      <td>0.384389</td>\n",
              "      <td>0.098304</td>\n",
              "      <td>-0.051632</td>\n",
              "      <td>0.270233</td>\n",
              "      <td>-0.410672</td>\n",
              "      <td>0.299411</td>\n",
              "      <td>-0.036497</td>\n",
              "      <td>-0.330533</td>\n",
              "      <td>0.476989</td>\n",
              "      <td>-0.016071</td>\n",
              "      <td>-0.196921</td>\n",
              "      <td>0.430946</td>\n",
              "      <td>0.142072</td>\n",
              "      <td>0.069759</td>\n",
              "      <td>-0.111698</td>\n",
              "      <td>-0.364723</td>\n",
              "      <td>-0.090796</td>\n",
              "      <td>0.391755</td>\n",
              "    </tr>\n",
              "    <tr>\n",
              "      <th>i</th>\n",
              "      <td>-0.031085</td>\n",
              "      <td>-0.191804</td>\n",
              "      <td>-0.128438</td>\n",
              "      <td>-0.224399</td>\n",
              "      <td>0.209633</td>\n",
              "      <td>0.043290</td>\n",
              "      <td>-4.273726</td>\n",
              "      <td>-0.028835</td>\n",
              "      <td>0.107965</td>\n",
              "      <td>-0.672024</td>\n",
              "      <td>0.075191</td>\n",
              "      <td>-0.187574</td>\n",
              "      <td>0.090388</td>\n",
              "      <td>-0.218035</td>\n",
              "      <td>0.254141</td>\n",
              "      <td>-0.193645</td>\n",
              "      <td>-0.078324</td>\n",
              "      <td>0.086168</td>\n",
              "      <td>0.338859</td>\n",
              "      <td>-0.049365</td>\n",
              "      <td>0.543617</td>\n",
              "      <td>-0.218590</td>\n",
              "      <td>0.382859</td>\n",
              "      <td>0.131598</td>\n",
              "      <td>-0.289862</td>\n",
              "      <td>-0.566427</td>\n",
              "      <td>-0.417442</td>\n",
              "      <td>-0.287228</td>\n",
              "      <td>0.146210</td>\n",
              "      <td>-0.067876</td>\n",
              "      <td>-0.070323</td>\n",
              "      <td>-0.051577</td>\n",
              "      <td>0.395855</td>\n",
              "      <td>-0.033439</td>\n",
              "      <td>0.314359</td>\n",
              "      <td>-0.101351</td>\n",
              "      <td>-0.335859</td>\n",
              "      <td>-0.116926</td>\n",
              "      <td>0.295103</td>\n",
              "      <td>0.098460</td>\n",
              "      <td>...</td>\n",
              "      <td>-0.520167</td>\n",
              "      <td>-0.446724</td>\n",
              "      <td>0.021324</td>\n",
              "      <td>-0.105399</td>\n",
              "      <td>-0.038820</td>\n",
              "      <td>-0.371362</td>\n",
              "      <td>0.015491</td>\n",
              "      <td>-0.091102</td>\n",
              "      <td>0.079037</td>\n",
              "      <td>-0.469766</td>\n",
              "      <td>-0.045058</td>\n",
              "      <td>-0.321671</td>\n",
              "      <td>-0.237041</td>\n",
              "      <td>-0.295862</td>\n",
              "      <td>0.058079</td>\n",
              "      <td>0.104231</td>\n",
              "      <td>0.371728</td>\n",
              "      <td>0.217371</td>\n",
              "      <td>0.367814</td>\n",
              "      <td>0.046510</td>\n",
              "      <td>1.107559</td>\n",
              "      <td>-0.255167</td>\n",
              "      <td>0.486838</td>\n",
              "      <td>0.400738</td>\n",
              "      <td>-0.002862</td>\n",
              "      <td>0.202499</td>\n",
              "      <td>-0.020471</td>\n",
              "      <td>0.210653</td>\n",
              "      <td>-0.097246</td>\n",
              "      <td>0.182056</td>\n",
              "      <td>-0.148642</td>\n",
              "      <td>-0.089959</td>\n",
              "      <td>-0.200748</td>\n",
              "      <td>-0.357509</td>\n",
              "      <td>0.210668</td>\n",
              "      <td>0.257673</td>\n",
              "      <td>-0.077280</td>\n",
              "      <td>0.094401</td>\n",
              "      <td>0.103395</td>\n",
              "      <td>0.094932</td>\n",
              "    </tr>\n",
              "    <tr>\n",
              "      <th>to</th>\n",
              "      <td>-0.233014</td>\n",
              "      <td>-0.448184</td>\n",
              "      <td>0.051642</td>\n",
              "      <td>-0.288677</td>\n",
              "      <td>-0.021545</td>\n",
              "      <td>0.254826</td>\n",
              "      <td>-4.624795</td>\n",
              "      <td>0.018558</td>\n",
              "      <td>-0.554614</td>\n",
              "      <td>-0.087113</td>\n",
              "      <td>0.059884</td>\n",
              "      <td>-0.401594</td>\n",
              "      <td>-0.144776</td>\n",
              "      <td>-0.593848</td>\n",
              "      <td>-0.021455</td>\n",
              "      <td>-0.047059</td>\n",
              "      <td>-0.288461</td>\n",
              "      <td>-0.077589</td>\n",
              "      <td>0.300932</td>\n",
              "      <td>0.229835</td>\n",
              "      <td>-0.096186</td>\n",
              "      <td>0.001832</td>\n",
              "      <td>-0.423715</td>\n",
              "      <td>-0.122711</td>\n",
              "      <td>-0.050901</td>\n",
              "      <td>0.019598</td>\n",
              "      <td>0.197655</td>\n",
              "      <td>-0.064040</td>\n",
              "      <td>0.019829</td>\n",
              "      <td>0.045007</td>\n",
              "      <td>-0.380645</td>\n",
              "      <td>-0.106965</td>\n",
              "      <td>0.170131</td>\n",
              "      <td>0.282880</td>\n",
              "      <td>-0.333285</td>\n",
              "      <td>0.124077</td>\n",
              "      <td>-0.532146</td>\n",
              "      <td>-0.767022</td>\n",
              "      <td>0.003524</td>\n",
              "      <td>0.137123</td>\n",
              "      <td>...</td>\n",
              "      <td>0.707394</td>\n",
              "      <td>-0.455356</td>\n",
              "      <td>-0.243222</td>\n",
              "      <td>-0.318863</td>\n",
              "      <td>-0.111504</td>\n",
              "      <td>0.230855</td>\n",
              "      <td>-0.559567</td>\n",
              "      <td>-0.390647</td>\n",
              "      <td>-0.134660</td>\n",
              "      <td>0.081568</td>\n",
              "      <td>-0.094568</td>\n",
              "      <td>-0.310863</td>\n",
              "      <td>-0.295905</td>\n",
              "      <td>-0.188346</td>\n",
              "      <td>0.182090</td>\n",
              "      <td>0.463548</td>\n",
              "      <td>-0.065851</td>\n",
              "      <td>0.137593</td>\n",
              "      <td>-0.423851</td>\n",
              "      <td>-0.293254</td>\n",
              "      <td>0.233130</td>\n",
              "      <td>-0.036605</td>\n",
              "      <td>0.094374</td>\n",
              "      <td>0.379779</td>\n",
              "      <td>-0.064722</td>\n",
              "      <td>0.262408</td>\n",
              "      <td>-0.162502</td>\n",
              "      <td>0.079189</td>\n",
              "      <td>-0.426468</td>\n",
              "      <td>-0.115751</td>\n",
              "      <td>0.089963</td>\n",
              "      <td>-0.614565</td>\n",
              "      <td>0.043666</td>\n",
              "      <td>0.632382</td>\n",
              "      <td>-0.119516</td>\n",
              "      <td>-0.158079</td>\n",
              "      <td>-0.171297</td>\n",
              "      <td>0.052464</td>\n",
              "      <td>0.153408</td>\n",
              "      <td>-0.372703</td>\n",
              "    </tr>\n",
              "    <tr>\n",
              "      <th>a</th>\n",
              "      <td>-0.011401</td>\n",
              "      <td>0.793292</td>\n",
              "      <td>-0.494033</td>\n",
              "      <td>0.067302</td>\n",
              "      <td>-0.117356</td>\n",
              "      <td>-0.301619</td>\n",
              "      <td>-4.242232</td>\n",
              "      <td>0.823842</td>\n",
              "      <td>0.238754</td>\n",
              "      <td>-0.688844</td>\n",
              "      <td>0.207700</td>\n",
              "      <td>-0.110838</td>\n",
              "      <td>-0.536788</td>\n",
              "      <td>-0.148184</td>\n",
              "      <td>-0.128675</td>\n",
              "      <td>-0.542623</td>\n",
              "      <td>0.356660</td>\n",
              "      <td>-0.231883</td>\n",
              "      <td>0.019574</td>\n",
              "      <td>0.042809</td>\n",
              "      <td>-0.045444</td>\n",
              "      <td>-0.411545</td>\n",
              "      <td>0.114626</td>\n",
              "      <td>-0.104049</td>\n",
              "      <td>0.011303</td>\n",
              "      <td>-0.040282</td>\n",
              "      <td>-0.223565</td>\n",
              "      <td>-0.056743</td>\n",
              "      <td>-0.335264</td>\n",
              "      <td>-0.568349</td>\n",
              "      <td>-0.071002</td>\n",
              "      <td>-0.215260</td>\n",
              "      <td>0.106617</td>\n",
              "      <td>0.064585</td>\n",
              "      <td>-0.061675</td>\n",
              "      <td>0.307305</td>\n",
              "      <td>0.370208</td>\n",
              "      <td>0.281798</td>\n",
              "      <td>0.210052</td>\n",
              "      <td>-0.010356</td>\n",
              "      <td>...</td>\n",
              "      <td>-0.164979</td>\n",
              "      <td>-0.515378</td>\n",
              "      <td>0.397161</td>\n",
              "      <td>0.272936</td>\n",
              "      <td>-0.301322</td>\n",
              "      <td>-0.215018</td>\n",
              "      <td>-0.375043</td>\n",
              "      <td>-0.405351</td>\n",
              "      <td>0.540625</td>\n",
              "      <td>0.049429</td>\n",
              "      <td>0.828803</td>\n",
              "      <td>-0.385341</td>\n",
              "      <td>-0.421830</td>\n",
              "      <td>-0.396122</td>\n",
              "      <td>0.452634</td>\n",
              "      <td>-0.273111</td>\n",
              "      <td>-0.081453</td>\n",
              "      <td>0.200021</td>\n",
              "      <td>-0.194411</td>\n",
              "      <td>-0.401733</td>\n",
              "      <td>0.621765</td>\n",
              "      <td>0.253665</td>\n",
              "      <td>-0.084211</td>\n",
              "      <td>0.019489</td>\n",
              "      <td>0.861555</td>\n",
              "      <td>-0.133639</td>\n",
              "      <td>0.598122</td>\n",
              "      <td>0.680072</td>\n",
              "      <td>-0.335601</td>\n",
              "      <td>-0.243203</td>\n",
              "      <td>0.098259</td>\n",
              "      <td>0.117756</td>\n",
              "      <td>-0.245527</td>\n",
              "      <td>-0.093422</td>\n",
              "      <td>-0.388386</td>\n",
              "      <td>-0.277153</td>\n",
              "      <td>0.007770</td>\n",
              "      <td>0.018762</td>\n",
              "      <td>-0.310064</td>\n",
              "      <td>-0.351996</td>\n",
              "    </tr>\n",
              "  </tbody>\n",
              "</table>\n",
              "<p>5 rows × 300 columns</p>\n",
              "</div>"
            ],
            "text/plain": [
              "          1         2         3    ...       298       299       300\n",
              "0                                  ...                              \n",
              "the -0.193682 -0.152885  0.007644  ... -0.539710  0.212540  0.001292\n",
              "and -0.080430 -0.260765 -0.330572  ... -0.364723 -0.090796  0.391755\n",
              "i   -0.031085 -0.191804 -0.128438  ...  0.094401  0.103395  0.094932\n",
              "to  -0.233014 -0.448184  0.051642  ...  0.052464  0.153408 -0.372703\n",
              "a   -0.011401  0.793292 -0.494033  ...  0.018762 -0.310064 -0.351996\n",
              "\n",
              "[5 rows x 300 columns]"
            ]
          },
          "metadata": {
            "tags": []
          },
          "execution_count": 4
        }
      ]
    },
    {
      "cell_type": "code",
      "metadata": {
        "colab": {
          "base_uri": "https://localhost:8080/"
        },
        "id": "oVfX2U3vTqiV",
        "outputId": "95784943-0c31-445a-d7cb-26f1ca40ea9f"
      },
      "source": [
        "df.head().to_numpy()[0][0]"
      ],
      "execution_count": null,
      "outputs": [
        {
          "output_type": "execute_result",
          "data": {
            "text/plain": [
              "-0.193682283163"
            ]
          },
          "metadata": {
            "tags": []
          },
          "execution_count": 36
        }
      ]
    },
    {
      "cell_type": "markdown",
      "metadata": {
        "id": "sGoFPBYVdSvO"
      },
      "source": [
        "## Load EWE vectors"
      ]
    },
    {
      "cell_type": "code",
      "metadata": {
        "id": "cDWXayWndSY-"
      },
      "source": [
        "from torchtext.vocab import Vectors"
      ],
      "execution_count": null,
      "outputs": []
    },
    {
      "cell_type": "code",
      "metadata": {
        "colab": {
          "base_uri": "https://localhost:8080/"
        },
        "id": "maKO_4aRdeo7",
        "outputId": "53c331a3-0f1f-4ecd-97ed-0744905d21a2"
      },
      "source": [
        "vectors = Vectors('ewe_uni.txt')"
      ],
      "execution_count": null,
      "outputs": [
        {
          "output_type": "stream",
          "text": [
            "100%|█████████▉| 183254/183712 [00:19<00:00, 9417.67it/s]"
          ],
          "name": "stderr"
        }
      ]
    },
    {
      "cell_type": "code",
      "metadata": {
        "id": "XO43FIE8d1Vi"
      },
      "source": [
        "examples = ['chip', 'baby', 'Beautiful']\n",
        "vectors.get_vecs_by_tokens(examples, lower_case_backup=True)"
      ],
      "execution_count": null,
      "outputs": []
    },
    {
      "cell_type": "code",
      "metadata": {
        "id": "8jyFM1VQd-El"
      },
      "source": [
        "examples = ['the', 'and', 'i']\n",
        "vectors.get_vecs_by_tokens(examples, lower_case_backup=True)"
      ],
      "execution_count": null,
      "outputs": []
    },
    {
      "cell_type": "code",
      "metadata": {
        "colab": {
          "base_uri": "https://localhost:8080/"
        },
        "id": "urqsjke4uKvR",
        "outputId": "9ae444d5-2acd-4d0a-e184-c3bf03a9f8d5"
      },
      "source": [
        "examples = ['The']\n",
        "vectors.get_vecs_by_tokens(examples)"
      ],
      "execution_count": null,
      "outputs": [
        {
          "output_type": "execute_result",
          "data": {
            "text/plain": [
              "tensor([[0., 0., 0., 0., 0., 0., 0., 0., 0., 0., 0., 0., 0., 0., 0., 0., 0., 0., 0., 0., 0., 0., 0., 0.,\n",
              "         0., 0., 0., 0., 0., 0., 0., 0., 0., 0., 0., 0., 0., 0., 0., 0., 0., 0., 0., 0., 0., 0., 0., 0.,\n",
              "         0., 0., 0., 0., 0., 0., 0., 0., 0., 0., 0., 0., 0., 0., 0., 0., 0., 0., 0., 0., 0., 0., 0., 0.,\n",
              "         0., 0., 0., 0., 0., 0., 0., 0., 0., 0., 0., 0., 0., 0., 0., 0., 0., 0., 0., 0., 0., 0., 0., 0.,\n",
              "         0., 0., 0., 0., 0., 0., 0., 0., 0., 0., 0., 0., 0., 0., 0., 0., 0., 0., 0., 0., 0., 0., 0., 0.,\n",
              "         0., 0., 0., 0., 0., 0., 0., 0., 0., 0., 0., 0., 0., 0., 0., 0., 0., 0., 0., 0., 0., 0., 0., 0.,\n",
              "         0., 0., 0., 0., 0., 0., 0., 0., 0., 0., 0., 0., 0., 0., 0., 0., 0., 0., 0., 0., 0., 0., 0., 0.,\n",
              "         0., 0., 0., 0., 0., 0., 0., 0., 0., 0., 0., 0., 0., 0., 0., 0., 0., 0., 0., 0., 0., 0., 0., 0.,\n",
              "         0., 0., 0., 0., 0., 0., 0., 0., 0., 0., 0., 0., 0., 0., 0., 0., 0., 0., 0., 0., 0., 0., 0., 0.,\n",
              "         0., 0., 0., 0., 0., 0., 0., 0., 0., 0., 0., 0., 0., 0., 0., 0., 0., 0., 0., 0., 0., 0., 0., 0.,\n",
              "         0., 0., 0., 0., 0., 0., 0., 0., 0., 0., 0., 0., 0., 0., 0., 0., 0., 0., 0., 0., 0., 0., 0., 0.,\n",
              "         0., 0., 0., 0., 0., 0., 0., 0., 0., 0., 0., 0., 0., 0., 0., 0., 0., 0., 0., 0., 0., 0., 0., 0.,\n",
              "         0., 0., 0., 0., 0., 0., 0., 0., 0., 0., 0., 0.]])"
            ]
          },
          "metadata": {
            "tags": []
          },
          "execution_count": 26
        }
      ]
    },
    {
      "cell_type": "code",
      "metadata": {
        "id": "zq-9e7rYhAls"
      },
      "source": [
        "dir(vectors)"
      ],
      "execution_count": null,
      "outputs": []
    },
    {
      "cell_type": "code",
      "metadata": {
        "colab": {
          "base_uri": "https://localhost:8080/"
        },
        "id": "Sq-zj_2EhDsu",
        "outputId": "2b16621f-bb6d-4c88-9a6e-12866f10efb2"
      },
      "source": [
        "vectors.vectors.size()[0]"
      ],
      "execution_count": null,
      "outputs": [
        {
          "output_type": "execute_result",
          "data": {
            "text/plain": [
              "183712"
            ]
          },
          "metadata": {
            "tags": []
          },
          "execution_count": 11
        }
      ]
    },
    {
      "cell_type": "code",
      "metadata": {
        "id": "w0bQykPcofUO"
      },
      "source": [
        "vectors.stoi"
      ],
      "execution_count": null,
      "outputs": []
    },
    {
      "cell_type": "code",
      "metadata": {
        "id": "5Ih6cgFagtxP"
      },
      "source": [
        "import torch\n",
        "from torch.nn import Embedding"
      ],
      "execution_count": null,
      "outputs": []
    },
    {
      "cell_type": "code",
      "metadata": {
        "id": "z13EKsFygyB1"
      },
      "source": [
        "embedding = Embedding.from_pretrained(vectors.vectors)"
      ],
      "execution_count": null,
      "outputs": []
    },
    {
      "cell_type": "code",
      "metadata": {
        "colab": {
          "base_uri": "https://localhost:8080/"
        },
        "id": "F0Ws7P28hbaV",
        "outputId": "777ccdbf-3b40-4d25-c2a0-56f2f11b252d"
      },
      "source": [
        "embedding"
      ],
      "execution_count": null,
      "outputs": [
        {
          "output_type": "execute_result",
          "data": {
            "text/plain": [
              "Embedding(183712, 300)"
            ]
          },
          "metadata": {
            "tags": []
          },
          "execution_count": 21
        }
      ]
    },
    {
      "cell_type": "code",
      "metadata": {
        "id": "Y5-dMA9qhwE8"
      },
      "source": [
        "embedding(torch.tensor(0, dtype=int))"
      ],
      "execution_count": null,
      "outputs": []
    },
    {
      "cell_type": "code",
      "metadata": {
        "id": "YJo6Hi6ri5U-"
      },
      "source": [
        "from torchtext.vocab import Vocab\n",
        "from collections import Counter"
      ],
      "execution_count": null,
      "outputs": []
    },
    {
      "cell_type": "code",
      "metadata": {
        "id": "nipgs4rIi5X9"
      },
      "source": [
        "counter = Counter()\n",
        "tokens = \"The dog jumped over the brown fox\".split()\n",
        "counter.update(tokens)\n",
        "vocab = Vocab(counter, vectors=vectors)\n",
        "#vocab.set_vectors(vectors.stoi, vectors, vectors.vectors.size()[1])"
      ],
      "execution_count": null,
      "outputs": []
    },
    {
      "cell_type": "code",
      "metadata": {
        "id": "FrAXEVmmvnyO"
      },
      "source": [
        "dir(vocab)"
      ],
      "execution_count": null,
      "outputs": []
    },
    {
      "cell_type": "code",
      "metadata": {
        "colab": {
          "base_uri": "https://localhost:8080/"
        },
        "id": "jarltLpTi5c2",
        "outputId": "142585ef-3288-486e-a0ad-c2da7058f9bb"
      },
      "source": [
        "vocab['The']"
      ],
      "execution_count": null,
      "outputs": [
        {
          "output_type": "execute_result",
          "data": {
            "text/plain": [
              "2"
            ]
          },
          "metadata": {
            "tags": []
          },
          "execution_count": 22
        }
      ]
    },
    {
      "cell_type": "code",
      "metadata": {
        "colab": {
          "base_uri": "https://localhost:8080/"
        },
        "id": "sHN8vwq4vtVW",
        "outputId": "d957c8e0-d393-48d9-a0f7-4be0ab8523dc"
      },
      "source": [
        "vocab.lookup_indices(['The'])"
      ],
      "execution_count": null,
      "outputs": [
        {
          "output_type": "execute_result",
          "data": {
            "text/plain": [
              "[2]"
            ]
          },
          "metadata": {
            "tags": []
          },
          "execution_count": 33
        }
      ]
    },
    {
      "cell_type": "code",
      "metadata": {
        "colab": {
          "base_uri": "https://localhost:8080/"
        },
        "id": "qQL77s8JkUrt",
        "outputId": "3c5ad5f3-b762-4758-ca17-acc8e1beec2e"
      },
      "source": [
        "vocab.stoi"
      ],
      "execution_count": null,
      "outputs": [
        {
          "output_type": "execute_result",
          "data": {
            "text/plain": [
              "defaultdict(<bound method Vocab._default_unk_index of <torchtext.vocab.Vocab object at 0x7f64266025d0>>,\n",
              "            {'<pad>': 1,\n",
              "             '<unk>': 0,\n",
              "             'The': 2,\n",
              "             'brown': 3,\n",
              "             'dog': 4,\n",
              "             'fox': 5,\n",
              "             'jumped': 6,\n",
              "             'over': 7,\n",
              "             'the': 8})"
            ]
          },
          "metadata": {
            "tags": []
          },
          "execution_count": 17
        }
      ]
    },
    {
      "cell_type": "code",
      "metadata": {
        "colab": {
          "base_uri": "https://localhost:8080/"
        },
        "id": "iuJOMtMErC9Y",
        "outputId": "9f65f65e-6ca1-46c7-f82b-595b8d0ec57f"
      },
      "source": [
        "vocab.vectors[vocab['The']]"
      ],
      "execution_count": null,
      "outputs": [
        {
          "output_type": "execute_result",
          "data": {
            "text/plain": [
              "tensor([0., 0., 0., 0., 0., 0., 0., 0., 0., 0., 0., 0., 0., 0., 0., 0., 0., 0., 0., 0., 0., 0., 0., 0.,\n",
              "        0., 0., 0., 0., 0., 0., 0., 0., 0., 0., 0., 0., 0., 0., 0., 0., 0., 0., 0., 0., 0., 0., 0., 0.,\n",
              "        0., 0., 0., 0., 0., 0., 0., 0., 0., 0., 0., 0., 0., 0., 0., 0., 0., 0., 0., 0., 0., 0., 0., 0.,\n",
              "        0., 0., 0., 0., 0., 0., 0., 0., 0., 0., 0., 0., 0., 0., 0., 0., 0., 0., 0., 0., 0., 0., 0., 0.,\n",
              "        0., 0., 0., 0., 0., 0., 0., 0., 0., 0., 0., 0., 0., 0., 0., 0., 0., 0., 0., 0., 0., 0., 0., 0.,\n",
              "        0., 0., 0., 0., 0., 0., 0., 0., 0., 0., 0., 0., 0., 0., 0., 0., 0., 0., 0., 0., 0., 0., 0., 0.,\n",
              "        0., 0., 0., 0., 0., 0., 0., 0., 0., 0., 0., 0., 0., 0., 0., 0., 0., 0., 0., 0., 0., 0., 0., 0.,\n",
              "        0., 0., 0., 0., 0., 0., 0., 0., 0., 0., 0., 0., 0., 0., 0., 0., 0., 0., 0., 0., 0., 0., 0., 0.,\n",
              "        0., 0., 0., 0., 0., 0., 0., 0., 0., 0., 0., 0., 0., 0., 0., 0., 0., 0., 0., 0., 0., 0., 0., 0.,\n",
              "        0., 0., 0., 0., 0., 0., 0., 0., 0., 0., 0., 0., 0., 0., 0., 0., 0., 0., 0., 0., 0., 0., 0., 0.,\n",
              "        0., 0., 0., 0., 0., 0., 0., 0., 0., 0., 0., 0., 0., 0., 0., 0., 0., 0., 0., 0., 0., 0., 0., 0.,\n",
              "        0., 0., 0., 0., 0., 0., 0., 0., 0., 0., 0., 0., 0., 0., 0., 0., 0., 0., 0., 0., 0., 0., 0., 0.,\n",
              "        0., 0., 0., 0., 0., 0., 0., 0., 0., 0., 0., 0.])"
            ]
          },
          "metadata": {
            "tags": []
          },
          "execution_count": 23
        }
      ]
    },
    {
      "cell_type": "code",
      "metadata": {
        "colab": {
          "base_uri": "https://localhost:8080/",
          "height": 168
        },
        "id": "PfCuKWGQrt4y",
        "outputId": "e127b508-bd71-496d-e369-8a5b41b625eb"
      },
      "source": [
        "vocab.vectors.get_vecs_by_tokens(\"The\")"
      ],
      "execution_count": null,
      "outputs": [
        {
          "output_type": "error",
          "ename": "AttributeError",
          "evalue": "ignored",
          "traceback": [
            "\u001b[0;31m---------------------------------------------------------------------------\u001b[0m",
            "\u001b[0;31mAttributeError\u001b[0m                            Traceback (most recent call last)",
            "\u001b[0;32m<ipython-input-30-b136a1cb8ee9>\u001b[0m in \u001b[0;36m<module>\u001b[0;34m()\u001b[0m\n\u001b[0;32m----> 1\u001b[0;31m \u001b[0mvocab\u001b[0m\u001b[0;34m.\u001b[0m\u001b[0mvectors\u001b[0m\u001b[0;34m.\u001b[0m\u001b[0mget_vecs_by_tokens\u001b[0m\u001b[0;34m(\u001b[0m\u001b[0;34m\"The\"\u001b[0m\u001b[0;34m)\u001b[0m\u001b[0;34m\u001b[0m\u001b[0;34m\u001b[0m\u001b[0m\n\u001b[0m",
            "\u001b[0;31mAttributeError\u001b[0m: 'Tensor' object has no attribute 'get_vecs_by_tokens'"
          ]
        }
      ]
    },
    {
      "cell_type": "code",
      "metadata": {
        "colab": {
          "base_uri": "https://localhost:8080/"
        },
        "id": "uQsoIewDi5gT",
        "outputId": "8f8d6871-5c96-4f11-c236-f2fcb851e3f1"
      },
      "source": [
        "embedding(torch.tensor(vocab[\"The\"], dtype=int))"
      ],
      "execution_count": null,
      "outputs": [
        {
          "output_type": "execute_result",
          "data": {
            "text/plain": [
              "tensor([-3.1085e-02, -1.9180e-01, -1.2844e-01, -2.2440e-01,  2.0963e-01,\n",
              "         4.3290e-02, -4.2737e+00, -2.8835e-02,  1.0796e-01, -6.7202e-01,\n",
              "         7.5191e-02, -1.8757e-01,  9.0388e-02, -2.1803e-01,  2.5414e-01,\n",
              "        -1.9365e-01, -7.8324e-02,  8.6168e-02,  3.3886e-01, -4.9365e-02,\n",
              "         5.4362e-01, -2.1859e-01,  3.8286e-01,  1.3160e-01, -2.8986e-01,\n",
              "        -5.6643e-01, -4.1744e-01, -2.8723e-01,  1.4621e-01, -6.7876e-02,\n",
              "        -7.0323e-02, -5.1577e-02,  3.9586e-01, -3.3439e-02,  3.1436e-01,\n",
              "        -1.0135e-01, -3.3586e-01, -1.1693e-01,  2.9510e-01,  9.8460e-02,\n",
              "         1.0714e-02,  3.3689e-01, -1.9365e-01, -2.5544e-01, -2.1336e-01,\n",
              "         2.1083e-03, -7.3646e-02, -4.2126e-01, -4.2583e-02, -3.1212e-01,\n",
              "        -1.1005e-01, -3.3348e-01,  1.8572e-01, -3.2653e-01, -1.6437e-01,\n",
              "        -5.6337e-02,  8.8778e-02, -2.9362e-01,  4.4158e-01,  9.8100e-02,\n",
              "         1.9068e-01, -1.6174e-01,  1.0667e-01, -3.0509e-01,  7.5123e-03,\n",
              "         4.3102e-01, -9.6605e-02, -1.1779e-01, -3.7469e-01, -1.0495e+00,\n",
              "        -2.2517e-01, -1.9441e-01,  4.0173e-01, -6.8276e-02,  2.5109e-01,\n",
              "        -3.3441e-01,  6.3186e-01, -6.9754e-02,  3.0667e-01, -1.0343e-01,\n",
              "         2.8780e-01, -6.9561e-01, -5.0989e-01, -1.4741e-01, -1.1361e-01,\n",
              "        -1.6545e-01,  1.5143e-01, -5.7351e-02,  8.5848e-02,  1.2729e-02,\n",
              "         2.3081e-01, -8.4454e-02, -9.3154e-02,  1.7290e-01, -4.5509e-01,\n",
              "        -1.4582e-01, -1.8175e+00, -5.6086e-02,  7.4410e-02,  2.7213e-01,\n",
              "        -4.5562e-02, -2.5328e-01, -4.4976e-02, -9.8421e-02, -3.3421e-02,\n",
              "        -3.1527e-01,  3.6818e-03, -1.3340e-01, -7.7233e-02, -1.6721e-01,\n",
              "         1.7391e-01, -3.8400e-03, -1.0753e-01,  3.8958e-01, -2.0497e-01,\n",
              "         1.0791e+00,  1.1297e-01, -3.7007e-01,  2.4154e-01,  2.0097e-01,\n",
              "         1.7565e-01, -4.9527e-02,  1.4054e-01,  2.9987e-01,  2.6005e-01,\n",
              "        -3.4121e-01, -1.3366e-01,  1.6416e-01, -8.5715e-02, -3.7362e-02,\n",
              "        -3.0687e-01, -8.7276e-03, -1.2442e-01, -3.4979e-01,  1.5960e-01,\n",
              "        -4.4171e-02,  5.2350e-01, -1.8550e-01,  1.0078e-01,  8.0826e-01,\n",
              "         1.1795e-01,  3.2136e-01,  1.1900e-01, -2.3197e-01,  4.3827e-01,\n",
              "        -4.4911e-01,  3.0067e-01, -2.8370e-01,  2.6142e-01,  3.6441e-02,\n",
              "         2.1622e-01, -5.8653e-02,  7.8228e-03, -3.4558e-01, -6.3279e-02,\n",
              "         3.3104e-02, -2.8778e-01,  5.8714e-02, -2.7704e-01,  6.0250e-02,\n",
              "         2.7426e-01,  2.6370e-01, -3.0544e-01, -4.1971e-01,  1.2195e-01,\n",
              "         4.5569e-01,  3.6574e-01, -2.3130e-01,  2.3044e-01, -4.8454e-01,\n",
              "        -2.1292e-01,  1.0500e-01, -1.1287e-01, -7.9712e-02, -2.5086e-01,\n",
              "         3.3006e-01, -1.5365e-01, -5.4752e-02, -1.2218e-01,  6.4316e-02,\n",
              "         3.4668e-02,  5.4649e-01, -1.2593e-01,  8.6164e-02, -3.0971e-01,\n",
              "        -2.6323e-01,  2.4388e-01, -3.7278e-01, -8.5158e-03,  2.1982e-03,\n",
              "         3.8658e-01, -2.8509e-01,  3.4479e-01, -1.4533e-01,  5.1566e-02,\n",
              "         1.0842e-01,  2.4166e-01, -3.9715e-01,  2.8218e-01, -3.1252e-01,\n",
              "         3.4043e-01, -2.6594e-01, -1.0875e-01,  3.7846e-01, -2.1633e-01,\n",
              "         4.8192e-03, -3.0514e-01, -3.6037e-01,  7.6593e-01,  3.2478e-01,\n",
              "         5.3762e-01, -1.6997e-01, -4.4362e-03, -4.4120e-01, -6.7172e-02,\n",
              "         1.4429e-01, -1.7528e-01,  1.4018e-01,  5.9558e-02, -9.3747e-02,\n",
              "        -1.0302e-02, -1.0892e-01, -1.0874e-01, -1.6650e-01, -3.5878e+00,\n",
              "         1.5365e-01,  4.0161e-01, -1.2041e-01,  1.3254e-01, -4.2049e-02,\n",
              "        -5.8204e-01,  1.3360e-01,  2.0642e-01,  6.9381e-02, -3.1543e-01,\n",
              "        -7.7578e-02, -1.6652e-01,  4.9882e-01, -3.2289e-01,  2.1363e-01,\n",
              "        -3.2034e-01,  1.5605e-01, -1.0560e+00,  4.6876e-01,  1.2856e-01,\n",
              "         2.4913e-01, -2.7329e-01,  1.3733e-01, -4.4599e-02,  3.9461e-01,\n",
              "         6.9667e-02,  7.3605e-02,  3.9723e-02,  1.5970e-02,  4.4510e-01,\n",
              "        -6.8279e-02,  4.5799e-01, -9.8834e-02,  4.7047e-02,  7.5916e-02,\n",
              "        -5.2017e-01, -4.4672e-01,  2.1324e-02, -1.0540e-01, -3.8820e-02,\n",
              "        -3.7136e-01,  1.5491e-02, -9.1102e-02,  7.9037e-02, -4.6977e-01,\n",
              "        -4.5058e-02, -3.2167e-01, -2.3704e-01, -2.9586e-01,  5.8079e-02,\n",
              "         1.0423e-01,  3.7173e-01,  2.1737e-01,  3.6781e-01,  4.6510e-02,\n",
              "         1.1076e+00, -2.5517e-01,  4.8684e-01,  4.0074e-01, -2.8617e-03,\n",
              "         2.0250e-01, -2.0471e-02,  2.1065e-01, -9.7246e-02,  1.8206e-01,\n",
              "        -1.4864e-01, -8.9959e-02, -2.0075e-01, -3.5751e-01,  2.1067e-01,\n",
              "         2.5767e-01, -7.7280e-02,  9.4401e-02,  1.0340e-01,  9.4932e-02])"
            ]
          },
          "metadata": {
            "tags": []
          },
          "execution_count": 29
        }
      ]
    },
    {
      "cell_type": "markdown",
      "metadata": {
        "id": "gK29fuveWPvz"
      },
      "source": [
        "# Load IMBd"
      ]
    },
    {
      "cell_type": "code",
      "metadata": {
        "id": "J_Iy4cIw3kDB"
      },
      "source": [
        "from torchtext.datasets import IMDB\n",
        "from transformers import pipeline, AutoTokenizer, AutoModelForSequenceClassification\n",
        "import torch\n",
        "from tqdm.notebook import tqdm"
      ],
      "execution_count": null,
      "outputs": []
    },
    {
      "cell_type": "code",
      "metadata": {
        "id": "aV-dc0wc3kRP",
        "colab": {
          "base_uri": "https://localhost:8080/"
        },
        "outputId": "e3779a1c-7c43-4b55-9b9e-9bf11660b9cf"
      },
      "source": [
        "train_iter, test_iter = IMDB()"
      ],
      "execution_count": null,
      "outputs": [
        {
          "output_type": "stream",
          "text": [
            "aclImdb_v1.tar.gz: 100%|██████████| 84.1M/84.1M [00:03<00:00, 21.3MB/s]\n"
          ],
          "name": "stderr"
        }
      ]
    },
    {
      "cell_type": "code",
      "metadata": {
        "id": "eCF5Zizl3kT1"
      },
      "source": [
        "x_train = []\n",
        "y_train = []\n",
        "for label, line in train_iter:\n",
        "    x_train.append(line)\n",
        "    y_train.append(label)\n",
        "\n",
        "\n",
        "x_test = []\n",
        "y_test = []\n",
        "for label, line in test_iter:\n",
        "    x_test.append(line)\n",
        "    y_test.append(label)"
      ],
      "execution_count": null,
      "outputs": []
    },
    {
      "cell_type": "code",
      "metadata": {
        "colab": {
          "base_uri": "https://localhost:8080/"
        },
        "id": "Ircf4hP43j5v",
        "outputId": "7f5b0b1e-179f-46f4-a603-27251c152388"
      },
      "source": [
        "x_train[:4]"
      ],
      "execution_count": null,
      "outputs": [
        {
          "output_type": "execute_result",
          "data": {
            "text/plain": [
              "['I rented I AM CURIOUS-YELLOW from my video store because of all the controversy that surrounded it when it was first released in 1967. I also heard that at first it was seized by U.S. customs if it ever tried to enter this country, therefore being a fan of films considered \"controversial\" I really had to see this for myself.<br /><br />The plot is centered around a young Swedish drama student named Lena who wants to learn everything she can about life. In particular she wants to focus her attentions to making some sort of documentary on what the average Swede thought about certain political issues such as the Vietnam War and race issues in the United States. In between asking politicians and ordinary denizens of Stockholm about their opinions on politics, she has sex with her drama teacher, classmates, and married men.<br /><br />What kills me about I AM CURIOUS-YELLOW is that 40 years ago, this was considered pornographic. Really, the sex and nudity scenes are few and far between, even then it\\'s not shot like some cheaply made porno. While my countrymen mind find it shocking, in reality sex and nudity are a major staple in Swedish cinema. Even Ingmar Bergman, arguably their answer to good old boy John Ford, had sex scenes in his films.<br /><br />I do commend the filmmakers for the fact that any sex shown in the film is shown for artistic purposes rather than just to shock people and make money to be shown in pornographic theaters in America. I AM CURIOUS-YELLOW is a good film for anyone wanting to study the meat and potatoes (no pun intended) of Swedish cinema. But really, this film doesn\\'t have much of a plot.',\n",
              " '\"I Am Curious: Yellow\" is a risible and pretentious steaming pile. It doesn\\'t matter what one\\'s political views are because this film can hardly be taken seriously on any level. As for the claim that frontal male nudity is an automatic NC-17, that isn\\'t true. I\\'ve seen R-rated films with male nudity. Granted, they only offer some fleeting views, but where are the R-rated films with gaping vulvas and flapping labia? Nowhere, because they don\\'t exist. The same goes for those crappy cable shows: schlongs swinging in the breeze but not a clitoris in sight. And those pretentious indie movies like The Brown Bunny, in which we\\'re treated to the site of Vincent Gallo\\'s throbbing johnson, but not a trace of pink visible on Chloe Sevigny. Before crying (or implying) \"double-standard\" in matters of nudity, the mentally obtuse should take into account one unavoidably obvious anatomical difference between men and women: there are no genitals on display when actresses appears nude, and the same cannot be said for a man. In fact, you generally won\\'t see female genitals in an American film in anything short of porn or explicit erotica. This alleged double-standard is less a double standard than an admittedly depressing ability to come to terms culturally with the insides of women\\'s bodies.',\n",
              " \"If only to avoid making this type of film in the future. This film is interesting as an experiment but tells no cogent story.<br /><br />One might feel virtuous for sitting thru it because it touches on so many IMPORTANT issues but it does so without any discernable motive. The viewer comes away with no new perspectives (unless one comes up with one while one's mind wanders, as it will invariably do during this pointless film).<br /><br />One might better spend one's time staring out a window at a tree growing.<br /><br />\",\n",
              " \"This film was probably inspired by Godard's Masculin, féminin and I urge you to see that film instead.<br /><br />The film has two strong elements and those are, (1) the realistic acting (2) the impressive, undeservedly good, photo. Apart from that, what strikes me most is the endless stream of silliness. Lena Nyman has to be most annoying actress in the world. She acts so stupid and with all the nudity in this film,...it's unattractive. Comparing to Godard's film, intellectuality has been replaced with stupidity. Without going too far on this subject, I would say that follows from the difference in ideals between the French and the Swedish society.<br /><br />A movie of its time, and place. 2/10.\"]"
            ]
          },
          "metadata": {
            "tags": []
          },
          "execution_count": 8
        }
      ]
    },
    {
      "cell_type": "code",
      "metadata": {
        "colab": {
          "base_uri": "https://localhost:8080/"
        },
        "id": "q4IFxWyY6FhT",
        "outputId": "5f2d7f13-fb46-47d4-97a2-3a2f0947372b"
      },
      "source": [
        "y_train[:4]"
      ],
      "execution_count": null,
      "outputs": [
        {
          "output_type": "execute_result",
          "data": {
            "text/plain": [
              "['neg', 'neg', 'neg', 'neg']"
            ]
          },
          "metadata": {
            "tags": []
          },
          "execution_count": 9
        }
      ]
    },
    {
      "cell_type": "code",
      "metadata": {
        "colab": {
          "base_uri": "https://localhost:8080/"
        },
        "id": "6RZlD379ISp_",
        "outputId": "0c0ace36-aeb9-4fd8-b7fa-05399c951d7d"
      },
      "source": [
        "x_test[:4]"
      ],
      "execution_count": null,
      "outputs": [
        {
          "output_type": "execute_result",
          "data": {
            "text/plain": [
              "['I love sci-fi and am willing to put up with a lot. Sci-fi movies/TV are usually underfunded, under-appreciated and misunderstood. I tried to like this, I really did, but it is to good TV sci-fi as Babylon 5 is to Star Trek (the original). Silly prosthetics, cheap cardboard sets, stilted dialogues, CG that doesn\\'t match the background, and painfully one-dimensional characters cannot be overcome with a \\'sci-fi\\' setting. (I\\'m sure there are those of you out there who think Babylon 5 is good sci-fi TV. It\\'s not. It\\'s clichéd and uninspiring.) While US viewers might like emotion and character development, sci-fi is a genre that does not take itself seriously (cf. Star Trek). It may treat important issues, yet not as a serious philosophy. It\\'s really difficult to care about the characters here as they are not simply foolish, just missing a spark of life. Their actions and reactions are wooden and predictable, often painful to watch. The makers of Earth KNOW it\\'s rubbish as they have to always say \"Gene Roddenberry\\'s Earth...\" otherwise people would not continue watching. Roddenberry\\'s ashes must be turning in their orbit as this dull, cheap, poorly edited (watching it without advert breaks really brings this home) trudging Trabant of a show lumbers into space. Spoiler. So, kill off a main character. And then bring him back as another actor. Jeeez! Dallas all over again.',\n",
              " \"Worth the entertainment value of a rental, especially if you like action movies. This one features the usual car chases, fights with the great Van Damme kick style, shooting battles with the 40 shell load shotgun, and even terrorist style bombs. All of this is entertaining and competently handled but there is nothing that really blows you away if you've seen your share before.<br /><br />The plot is made interesting by the inclusion of a rabbit, which is clever but hardly profound. Many of the characters are heavily stereotyped -- the angry veterans, the terrified illegal aliens, the crooked cops, the indifferent feds, the bitchy tough lady station head, the crooked politician, the fat federale who looks like he was typecast as the Mexican in a Hollywood movie from the 1940s. All passably acted but again nothing special.<br /><br />I thought the main villains were pretty well done and fairly well acted. By the end of the movie you certainly knew who the good guys were and weren't. There was an emotional lift as the really bad ones got their just deserts. Very simplistic, but then you weren't expecting Hamlet, right? The only thing I found really annoying was the constant cuts to VDs daughter during the last fight scene.<br /><br />Not bad. Not good. Passable 4.\",\n",
              " \"its a totally average film with a few semi-alright action sequences that make the plot seem a little better and remind the viewer of the classic van dam films. parts of the plot don't make sense and seem to be added in to use up time. the end plot is that of a very basic type that doesn't leave the viewer guessing and any twists are obvious from the beginning. the end scene with the flask backs don't make sense as they are added in and seem to have little relevance to the history of van dam's character. not really worth watching again, bit disappointed in the end production, even though it is apparent it was shot on a low budget certain shots and sections in the film are of poor directed quality\",\n",
              " \"STAR RATING: ***** Saturday Night **** Friday Night *** Friday Morning ** Sunday Night * Monday Morning <br /><br />Former New Orleans homicide cop Jack Robideaux (Jean Claude Van Damme) is re-assigned to Columbus, a small but violent town in Mexico to help the police there with their efforts to stop a major heroin smuggling operation into their town. The culprits turn out to be ex-military, lead by former commander Benjamin Meyers (Stephen Lord, otherwise known as Jase from East Enders) who is using a special method he learned in Afghanistan to fight off his opponents. But Jack has a more personal reason for taking him down, that draws the two men into an explosive final showdown where only one will walk away alive.<br /><br />After Until Death, Van Damme appeared to be on a high, showing he could make the best straight to video films in the action market. While that was a far more drama oriented film, with The Shepherd he has returned to the high-kicking, no brainer action that first made him famous and has sadly produced his worst film since Derailed. It's nowhere near as bad as that film, but what I said still stands.<br /><br />A dull, predictable film, with very little in the way of any exciting action. What little there is mainly consists of some limp fight scenes, trying to look cool and trendy with some cheap slo-mo/sped up effects added to them that sadly instead make them look more desperate. Being a Mexican set film, director Isaac Florentine has tried to give the film a Robert Rodriguez/Desperado sort of feel, but this only adds to the desperation.<br /><br />VD gives a particularly uninspired performance and given he's never been a Robert De Niro sort of actor, that can't be good. As the villain, Lord shouldn't expect to leave the beeb anytime soon. He gets little dialogue at the beginning as he struggles to muster an American accent but gets mysteriously better towards the end. All the supporting cast are equally bland, and do nothing to raise the films spirits at all.<br /><br />This is one shepherd that's strayed right from the flock. *\"]"
            ]
          },
          "metadata": {
            "tags": []
          },
          "execution_count": 10
        }
      ]
    },
    {
      "cell_type": "code",
      "metadata": {
        "colab": {
          "base_uri": "https://localhost:8080/"
        },
        "id": "4FvgBSxbISqJ",
        "outputId": "37d6de54-25a1-4b3b-f185-5cf85df095ea"
      },
      "source": [
        "y_test[:4]"
      ],
      "execution_count": null,
      "outputs": [
        {
          "output_type": "execute_result",
          "data": {
            "text/plain": [
              "['neg', 'neg', 'neg', 'neg']"
            ]
          },
          "metadata": {
            "tags": []
          },
          "execution_count": 11
        }
      ]
    },
    {
      "cell_type": "markdown",
      "metadata": {
        "id": "WDrSWOKWWSRy"
      },
      "source": [
        "# Get BERT scores"
      ]
    },
    {
      "cell_type": "code",
      "metadata": {
        "id": "dy2xho0C3khV",
        "colab": {
          "base_uri": "https://localhost:8080/",
          "height": 215,
          "referenced_widgets": [
            "81b71b9b1c5944978c426c2e28ecc5fc",
            "3721866ab8c849f688251cf0f74ba4ca",
            "cbdc767d647b47f197a173cfe803eb16",
            "cf067287bdad4f8dbf7446f4bf7e4e43",
            "f6fce015e0934382b2e0a6fe16e5c9bf",
            "6143257764974165a0e06c529ace15ad",
            "4379aaff93634287851159b440b39a02",
            "28af9d0e52f943328494eb94ef101dd3",
            "d4b845f17a5c4946b34033f1b114c151",
            "538933687bc84613b5f2924c6bceb2fd",
            "6acb7ac0cd454b729e003ac4f4a3de29",
            "403f3319aab543faa797c817a2a6e077",
            "b804327874fd46a494de30e08393d474",
            "9483e92979154ea298338ebd8a1ec4f8",
            "e00c41a2cc6748ecb53f5a850dab31c5",
            "745ef268a72549edb2d6aee2cf15ad7a",
            "a4f8aea71c774aa58d3128b9b928d7d5",
            "f87a62c3f30c4439a786b742eddee28f",
            "1ca25bb2b7d44348abf791d25407308b",
            "5b4bb73b1aac4edc8cb22f7c7777713c",
            "2ec500d822564fd5ab499a964ea922a0",
            "41ff6812eb9e4bcca7a2ca0a3bb4d337",
            "5a9258a7343c4ec0bf9cc8377e11e1dd",
            "ad68e6f416e3467fac1b800059c958be",
            "ebcf32ddcd3e457eaa1987785d0e4987",
            "4ad77672d5e744d68f1339774cf1cde8",
            "972d2f16e41a4ae08827a2a540143890",
            "b1b85a36f1634ddeb3fec5553c04e32a",
            "627a8e36e0794018ba9b13aebb499a24",
            "72d7d89e6eaa41749414b51cbf384254",
            "b65cf51714344b2c8855242931fb835f",
            "1ab87c502a674b8e9936fb00173d42c8"
          ]
        },
        "outputId": "96b3b4a5-e08e-41d4-ec4c-a8ef7a83ddde"
      },
      "source": [
        "clf = pipeline('sentiment-analysis', \n",
        "               model=\"distilbert-base-uncased-finetuned-sst-2-english\", \n",
        "               device=torch.cuda.current_device())"
      ],
      "execution_count": null,
      "outputs": [
        {
          "output_type": "display_data",
          "data": {
            "application/vnd.jupyter.widget-view+json": {
              "model_id": "81b71b9b1c5944978c426c2e28ecc5fc",
              "version_minor": 0,
              "version_major": 2
            },
            "text/plain": [
              "HBox(children=(FloatProgress(value=0.0, description='Downloading', max=629.0, style=ProgressStyle(description_…"
            ]
          },
          "metadata": {
            "tags": []
          }
        },
        {
          "output_type": "stream",
          "text": [
            "\n"
          ],
          "name": "stdout"
        },
        {
          "output_type": "display_data",
          "data": {
            "application/vnd.jupyter.widget-view+json": {
              "model_id": "d4b845f17a5c4946b34033f1b114c151",
              "version_minor": 0,
              "version_major": 2
            },
            "text/plain": [
              "HBox(children=(FloatProgress(value=0.0, description='Downloading', max=267844284.0, style=ProgressStyle(descri…"
            ]
          },
          "metadata": {
            "tags": []
          }
        },
        {
          "output_type": "stream",
          "text": [
            "\n"
          ],
          "name": "stdout"
        },
        {
          "output_type": "display_data",
          "data": {
            "application/vnd.jupyter.widget-view+json": {
              "model_id": "a4f8aea71c774aa58d3128b9b928d7d5",
              "version_minor": 0,
              "version_major": 2
            },
            "text/plain": [
              "HBox(children=(FloatProgress(value=0.0, description='Downloading', max=231508.0, style=ProgressStyle(descripti…"
            ]
          },
          "metadata": {
            "tags": []
          }
        },
        {
          "output_type": "stream",
          "text": [
            "\n"
          ],
          "name": "stdout"
        },
        {
          "output_type": "display_data",
          "data": {
            "application/vnd.jupyter.widget-view+json": {
              "model_id": "ebcf32ddcd3e457eaa1987785d0e4987",
              "version_minor": 0,
              "version_major": 2
            },
            "text/plain": [
              "HBox(children=(FloatProgress(value=0.0, description='Downloading', max=48.0, style=ProgressStyle(description_w…"
            ]
          },
          "metadata": {
            "tags": []
          }
        },
        {
          "output_type": "stream",
          "text": [
            "\n"
          ],
          "name": "stdout"
        }
      ]
    },
    {
      "cell_type": "code",
      "metadata": {
        "id": "FOl5Xoj_3kfy"
      },
      "source": [
        "tokenizer_kwargs = dict(padding=True,\n",
        "                        truncation=True,\n",
        "                        max_length=512,\n",
        "                        return_tensors=\"pt\")"
      ],
      "execution_count": null,
      "outputs": []
    },
    {
      "cell_type": "code",
      "metadata": {
        "colab": {
          "base_uri": "https://localhost:8080/"
        },
        "id": "Bfty72gdwSzR",
        "outputId": "5fe56dca-acc6-4c2a-cbf8-d6f8d336fff0"
      },
      "source": [
        "clf(x_train[:10], **tokenizer_kwargs)"
      ],
      "execution_count": null,
      "outputs": [
        {
          "output_type": "execute_result",
          "data": {
            "text/plain": [
              "[{'label': 'POSITIVE', 'score': 0.7872869968414307},\n",
              " {'label': 'NEGATIVE', 'score': 0.9991909861564636},\n",
              " {'label': 'NEGATIVE', 'score': 0.9982178211212158},\n",
              " {'label': 'POSITIVE', 'score': 0.8144601583480835},\n",
              " {'label': 'NEGATIVE', 'score': 0.9993876814842224},\n",
              " {'label': 'NEGATIVE', 'score': 0.9989562630653381},\n",
              " {'label': 'NEGATIVE', 'score': 0.9994860291481018},\n",
              " {'label': 'NEGATIVE', 'score': 0.996175229549408},\n",
              " {'label': 'NEGATIVE', 'score': 0.989343523979187},\n",
              " {'label': 'NEGATIVE', 'score': 0.9909104108810425}]"
            ]
          },
          "metadata": {
            "tags": []
          },
          "execution_count": 14
        }
      ]
    },
    {
      "cell_type": "code",
      "metadata": {
        "id": "OKzHxFtr3kyd",
        "colab": {
          "base_uri": "https://localhost:8080/"
        },
        "outputId": "83c3ca06-907e-4dbb-d025-cc37014d553b"
      },
      "source": [
        "y_train[:10]"
      ],
      "execution_count": null,
      "outputs": [
        {
          "output_type": "execute_result",
          "data": {
            "text/plain": [
              "['neg', 'neg', 'neg', 'neg', 'neg', 'neg', 'neg', 'neg', 'neg', 'neg']"
            ]
          },
          "metadata": {
            "tags": []
          },
          "execution_count": 15
        }
      ]
    },
    {
      "cell_type": "markdown",
      "metadata": {
        "id": "aTj-S5elwfe8"
      },
      "source": [
        "### Run entire dataset set through BERT"
      ]
    },
    {
      "cell_type": "code",
      "metadata": {
        "id": "oDmj_UBtX3BF"
      },
      "source": [
        "def get_batches(data, batch_size=10):\n",
        "    out = []\n",
        "    for i, d in enumerate(data):\n",
        "        out.append(d)\n",
        "        if (i + 1) % batch_size == 0:\n",
        "            yield out\n",
        "            out = []"
      ],
      "execution_count": null,
      "outputs": []
    },
    {
      "cell_type": "code",
      "metadata": {
        "id": "8PHi2Cbp3kkb",
        "colab": {
          "base_uri": "https://localhost:8080/",
          "height": 66,
          "referenced_widgets": [
            "f6a54e5628974118964a379ee9f99a03",
            "462fcc4cfc33489db955228ab555e9b0",
            "9bcbe4f8face48d08c828c6180a4e41a",
            "d1a5bc3590e2461aa30f51bd1b057e4d",
            "1c03358afe3b48bd8432933a3752deb5",
            "a6fdd26c082342178dd26462ec4292fa",
            "d7b7eba969974737a55b3af5308ede05",
            "76e901714bfc4c1abc9c390dbbe63e16"
          ]
        },
        "outputId": "adfd5d3b-7a15-49bd-987d-a7fe89b370a1"
      },
      "source": [
        "batch_size = 50\n",
        "num_batches = len(x_train + x_test) / batch_size\n",
        "yhat = []\n",
        "for x_batch in tqdm(get_batches(x_train + x_test, batch_size=batch_size), total=num_batches):\n",
        "    yhat.extend(clf(x_batch, **tokenizer_kwargs))"
      ],
      "execution_count": null,
      "outputs": [
        {
          "output_type": "display_data",
          "data": {
            "application/vnd.jupyter.widget-view+json": {
              "model_id": "f6a54e5628974118964a379ee9f99a03",
              "version_minor": 0,
              "version_major": 2
            },
            "text/plain": [
              "HBox(children=(FloatProgress(value=0.0, max=1000.0), HTML(value='')))"
            ]
          },
          "metadata": {
            "tags": []
          }
        },
        {
          "output_type": "stream",
          "text": [
            "\n"
          ],
          "name": "stdout"
        }
      ]
    },
    {
      "cell_type": "code",
      "metadata": {
        "colab": {
          "base_uri": "https://localhost:8080/",
          "height": 215
        },
        "id": "8-1yit7ANQLD",
        "outputId": "0e5fc6f0-e829-4a23-a109-fd8b5f87638b"
      },
      "source": [
        "bert_scores = pd.DataFrame(yhat)\n",
        "print(bert_scores.shape)\n",
        "bert_scores.head()"
      ],
      "execution_count": null,
      "outputs": [
        {
          "output_type": "stream",
          "text": [
            "(50000, 2)\n"
          ],
          "name": "stdout"
        },
        {
          "output_type": "execute_result",
          "data": {
            "text/html": [
              "<div>\n",
              "<style scoped>\n",
              "    .dataframe tbody tr th:only-of-type {\n",
              "        vertical-align: middle;\n",
              "    }\n",
              "\n",
              "    .dataframe tbody tr th {\n",
              "        vertical-align: top;\n",
              "    }\n",
              "\n",
              "    .dataframe thead th {\n",
              "        text-align: right;\n",
              "    }\n",
              "</style>\n",
              "<table border=\"1\" class=\"dataframe\">\n",
              "  <thead>\n",
              "    <tr style=\"text-align: right;\">\n",
              "      <th></th>\n",
              "      <th>label</th>\n",
              "      <th>score</th>\n",
              "    </tr>\n",
              "  </thead>\n",
              "  <tbody>\n",
              "    <tr>\n",
              "      <th>0</th>\n",
              "      <td>POSITIVE</td>\n",
              "      <td>0.787287</td>\n",
              "    </tr>\n",
              "    <tr>\n",
              "      <th>1</th>\n",
              "      <td>NEGATIVE</td>\n",
              "      <td>0.999191</td>\n",
              "    </tr>\n",
              "    <tr>\n",
              "      <th>2</th>\n",
              "      <td>NEGATIVE</td>\n",
              "      <td>0.998218</td>\n",
              "    </tr>\n",
              "    <tr>\n",
              "      <th>3</th>\n",
              "      <td>POSITIVE</td>\n",
              "      <td>0.814460</td>\n",
              "    </tr>\n",
              "    <tr>\n",
              "      <th>4</th>\n",
              "      <td>NEGATIVE</td>\n",
              "      <td>0.999388</td>\n",
              "    </tr>\n",
              "  </tbody>\n",
              "</table>\n",
              "</div>"
            ],
            "text/plain": [
              "      label     score\n",
              "0  POSITIVE  0.787287\n",
              "1  NEGATIVE  0.999191\n",
              "2  NEGATIVE  0.998218\n",
              "3  POSITIVE  0.814460\n",
              "4  NEGATIVE  0.999388"
            ]
          },
          "metadata": {
            "tags": []
          },
          "execution_count": 34
        }
      ]
    },
    {
      "cell_type": "markdown",
      "metadata": {
        "id": "9HCOTMdHNazJ"
      },
      "source": [
        "Write out to csv"
      ]
    },
    {
      "cell_type": "code",
      "metadata": {
        "id": "z_lBMmzc3k_p"
      },
      "source": [
        "bert_scores.to_csv('imbd_bert_scores.csv', index_label='id')"
      ],
      "execution_count": null,
      "outputs": []
    },
    {
      "cell_type": "markdown",
      "metadata": {
        "id": "cED_EPKHPVlu"
      },
      "source": [
        "# Get BERT review embeddings "
      ]
    },
    {
      "cell_type": "code",
      "metadata": {
        "id": "KVscqWos3lB_"
      },
      "source": [
        "model_name = \"distilbert-base-uncased-finetuned-sst-2-english\"\n",
        "pt_model = AutoModelForSequenceClassification.from_pretrained(model_name)\n",
        "tokenizer = AutoTokenizer.from_pretrained(model_name)"
      ],
      "execution_count": null,
      "outputs": []
    },
    {
      "cell_type": "code",
      "metadata": {
        "id": "cnCHyMqg3lEu"
      },
      "source": [
        "pt_batch = tokenizer(\n",
        "    x_train[:10],\n",
        "    padding=True,\n",
        "    truncation=True,\n",
        "    max_length=512,\n",
        "    return_tensors=\"pt\"\n",
        ")"
      ],
      "execution_count": null,
      "outputs": []
    },
    {
      "cell_type": "code",
      "metadata": {
        "id": "I82ZaQTr3lHc"
      },
      "source": [
        "pt_outputs = pt_model(**pt_batch, output_hidden_states=True)"
      ],
      "execution_count": null,
      "outputs": []
    },
    {
      "cell_type": "code",
      "metadata": {
        "id": "kHPtQYb5VLDL"
      },
      "source": [
        "pt_outputs"
      ],
      "execution_count": null,
      "outputs": []
    },
    {
      "cell_type": "code",
      "metadata": {
        "colab": {
          "base_uri": "https://localhost:8080/"
        },
        "id": "miLObaxvQMZC",
        "outputId": "aea90b4e-1d12-465d-ac6b-29870392913e"
      },
      "source": [
        "pt_outputs.hidden_states"
      ],
      "execution_count": null,
      "outputs": [
        {
          "output_type": "execute_result",
          "data": {
            "text/plain": [
              "(tensor([[[ 0.3549, -0.1386, -0.2253,  ...,  0.1536,  0.0748,  0.1310],\n",
              "          [ 0.2282,  0.5511, -0.5092,  ...,  0.6421,  0.9541,  0.3192],\n",
              "          [-2.0722, -0.6960, -0.7317,  ...,  0.0574,  0.2823,  0.6993],\n",
              "          ...,\n",
              "          [ 0.3740, -0.0294, -0.0420,  ...,  0.2570, -0.0529,  0.8533],\n",
              "          [ 0.1270,  0.5198, -0.0711,  ...,  0.3751,  0.1634,  0.4257],\n",
              "          [-0.0564,  0.1544, -0.1891,  ..., -0.0625, -0.0342,  0.1120]]],\n",
              "        grad_fn=<NativeLayerNormBackward>),\n",
              " tensor([[[-1.3664e-01,  1.8010e-02, -9.8503e-02,  ...,  1.5377e-01,\n",
              "            5.7496e-02,  8.4130e-02],\n",
              "          [ 2.4336e-01,  5.0640e-01, -4.7071e-01,  ...,  7.0713e-01,\n",
              "            7.6154e-01,  1.0730e+00],\n",
              "          [-1.4912e+00, -5.0866e-01,  6.8742e-02,  ...,  2.2801e-01,\n",
              "            3.2560e-01,  8.3328e-01],\n",
              "          ...,\n",
              "          [ 5.1544e-01,  1.7000e-01, -1.6902e-01,  ...,  4.3245e-01,\n",
              "           -7.2209e-02,  6.8319e-01],\n",
              "          [ 6.5775e-04,  3.3590e-02,  1.5539e-01,  ...,  2.3400e-01,\n",
              "            1.5712e-02,  1.5792e-01],\n",
              "          [-2.3712e-01, -1.2095e-01, -6.7759e-02,  ..., -1.6310e-02,\n",
              "           -1.4865e-01, -9.1020e-02]]], grad_fn=<NativeLayerNormBackward>),\n",
              " tensor([[[-0.2022, -0.2030,  0.0825,  ...,  0.3454, -0.1353,  0.2923],\n",
              "          [ 0.5511,  0.9843, -0.1779,  ...,  0.6769,  0.4848,  1.0930],\n",
              "          [-0.7003, -0.2654,  0.1071,  ...,  0.3124, -0.1806,  1.3993],\n",
              "          ...,\n",
              "          [ 0.7898,  0.2808, -0.4953,  ...,  0.6167, -0.5281,  1.2175],\n",
              "          [ 0.0395, -0.2070, -0.5368,  ...,  0.2797, -0.2331, -0.0025],\n",
              "          [-0.0632, -0.0487,  0.0568,  ..., -0.0071, -0.0217,  0.0101]]],\n",
              "        grad_fn=<NativeLayerNormBackward>),\n",
              " tensor([[[-0.3951, -0.4707, -0.0406,  ...,  0.1377,  0.4377,  0.8354],\n",
              "          [ 0.7897,  0.9183, -0.2004,  ...,  0.8981,  1.0231,  1.1716],\n",
              "          [-0.0947, -0.1060, -0.4448,  ...,  0.6115,  0.7402,  1.2700],\n",
              "          ...,\n",
              "          [ 0.7271,  0.1985, -0.9942,  ...,  0.2190, -0.3268,  1.2353],\n",
              "          [ 0.1037, -0.2570, -0.7884,  ...,  0.3475,  0.0443,  0.1359],\n",
              "          [-0.0244, -0.0366,  0.0321,  ..., -0.0121, -0.0358, -0.0062]]],\n",
              "        grad_fn=<NativeLayerNormBackward>),\n",
              " tensor([[[-0.4034, -0.4213, -0.5648,  ..., -0.3754,  0.5042,  0.9997],\n",
              "          [ 0.5287, -0.0236, -0.3135,  ...,  0.5432,  0.4439,  1.1858],\n",
              "          [-0.1273, -0.2831, -0.9169,  ..., -0.0257,  0.7131,  1.3173],\n",
              "          ...,\n",
              "          [-0.0426, -0.2776, -0.7377,  ..., -0.3582, -0.2645,  1.0496],\n",
              "          [ 0.0381,  0.0115, -1.0060,  ..., -0.0119, -0.2928,  0.1108],\n",
              "          [-0.0252, -0.0196,  0.0322,  ..., -0.0729, -0.0504, -0.0210]]],\n",
              "        grad_fn=<NativeLayerNormBackward>),\n",
              " tensor([[[-0.0640, -0.3946,  0.3602,  ...,  0.1244, -0.3353,  0.1372],\n",
              "          [ 0.4288, -0.2059,  0.0542,  ..., -0.3247,  0.9236,  0.4805],\n",
              "          [ 0.2814, -0.2810, -0.2900,  ..., -0.3916,  0.6027,  1.3569],\n",
              "          ...,\n",
              "          [-0.2936, -0.2292, -0.6559,  ..., -1.0300, -0.3144,  0.6751],\n",
              "          [-0.0513, -0.0156, -0.0726,  ...,  0.0384, -0.0361, -0.0436],\n",
              "          [ 0.0333,  0.1076,  0.3000,  ...,  0.3455,  0.0084, -0.0355]]],\n",
              "        grad_fn=<NativeLayerNormBackward>),\n",
              " tensor([[[-0.2592,  0.4051,  0.6693,  ...,  0.1971,  0.2740,  0.0206],\n",
              "          [-0.2503,  0.4379, -0.0508,  ..., -0.2661,  0.1896,  0.3819],\n",
              "          [ 0.2040,  0.2843, -0.0913,  ..., -0.5422,  0.1301,  0.7371],\n",
              "          ...,\n",
              "          [-0.0699,  0.2368, -0.0607,  ..., -0.6040,  0.2889,  0.5624],\n",
              "          [ 0.2602,  0.3107, -0.2396,  ...,  0.1937, -0.2687, -0.3308],\n",
              "          [-0.2222,  1.0776,  0.2545,  ..., -0.0081, -0.0234, -0.0724]]],\n",
              "        grad_fn=<NativeLayerNormBackward>))"
            ]
          },
          "metadata": {
            "tags": []
          },
          "execution_count": 61
        }
      ]
    },
    {
      "cell_type": "code",
      "metadata": {
        "colab": {
          "base_uri": "https://localhost:8080/"
        },
        "id": "to7HNbmxQmUJ",
        "outputId": "a82cc314-328d-4d4c-a5bf-d53d6972a0f8"
      },
      "source": [
        "len(pt_outputs.hidden_states)"
      ],
      "execution_count": null,
      "outputs": [
        {
          "output_type": "execute_result",
          "data": {
            "text/plain": [
              "7"
            ]
          },
          "metadata": {
            "tags": []
          },
          "execution_count": 55
        }
      ]
    },
    {
      "cell_type": "code",
      "metadata": {
        "colab": {
          "base_uri": "https://localhost:8080/"
        },
        "id": "2snVS2DTRmmz",
        "outputId": "95e5be83-f1bf-4b4c-c5a0-e71e3ddaa24b"
      },
      "source": [
        "for l in pt_outputs.hidden_states:\n",
        "  print(l.size())"
      ],
      "execution_count": null,
      "outputs": [
        {
          "output_type": "stream",
          "text": [
            "torch.Size([5, 495, 768])\n",
            "torch.Size([5, 495, 768])\n",
            "torch.Size([5, 495, 768])\n",
            "torch.Size([5, 495, 768])\n",
            "torch.Size([5, 495, 768])\n",
            "torch.Size([5, 495, 768])\n",
            "torch.Size([5, 495, 768])\n"
          ],
          "name": "stdout"
        }
      ]
    },
    {
      "cell_type": "code",
      "metadata": {
        "colab": {
          "base_uri": "https://localhost:8080/"
        },
        "id": "Z29tKNMNRxOr",
        "outputId": "21289b39-318e-4aea-e5a4-18e4a04e32e3"
      },
      "source": [
        "pt_outputs.hidden_states[-1].size()"
      ],
      "execution_count": null,
      "outputs": [
        {
          "output_type": "execute_result",
          "data": {
            "text/plain": [
              "torch.Size([1, 363, 768])"
            ]
          },
          "metadata": {
            "tags": []
          },
          "execution_count": 64
        }
      ]
    },
    {
      "cell_type": "code",
      "metadata": {
        "id": "Wr0QrXy_X9Vk"
      },
      "source": [
        ""
      ],
      "execution_count": null,
      "outputs": []
    }
  ]
}